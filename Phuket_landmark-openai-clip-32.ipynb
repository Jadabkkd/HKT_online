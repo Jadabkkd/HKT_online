{
 "cells": [
  {
   "cell_type": "code",
   "execution_count": 1,
   "id": "13d31789",
   "metadata": {
    "_cell_guid": "b1076dfc-b9ad-4769-8c92-a6c4dae69d19",
    "_uuid": "8f2839f25d086af736a60e9eeb907d3b93b6e0e5",
    "execution": {
     "iopub.execute_input": "2023-04-23T01:07:55.489709Z",
     "iopub.status.busy": "2023-04-23T01:07:55.489123Z",
     "iopub.status.idle": "2023-04-23T01:08:06.608669Z",
     "shell.execute_reply": "2023-04-23T01:08:06.607086Z"
    },
    "papermill": {
     "duration": 11.132851,
     "end_time": "2023-04-23T01:08:06.611435",
     "exception": false,
     "start_time": "2023-04-23T01:07:55.478584",
     "status": "completed"
    },
    "tags": []
   },
   "outputs": [
    {
     "name": "stdout",
     "output_type": "stream",
     "text": [
      "Collecting augmax\r\n",
      "  Downloading augmax-0.3.1-py3-none-any.whl (21 kB)\r\n",
      "Collecting einops>=0.3\r\n",
      "  Downloading einops-0.6.1-py3-none-any.whl (42 kB)\r\n",
      "\u001b[2K     \u001b[90m━━━━━━━━━━━━━━━━━━━━━━━━━━━━━━━━━━━━━━━━\u001b[0m \u001b[32m42.2/42.2 kB\u001b[0m \u001b[31m3.1 MB/s\u001b[0m eta \u001b[36m0:00:00\u001b[0m\r\n",
      "\u001b[?25hRequirement already satisfied: jax>=0.1 in /opt/conda/lib/python3.7/site-packages (from augmax) (0.3.25)\r\n",
      "Requirement already satisfied: typing-extensions in /opt/conda/lib/python3.7/site-packages (from jax>=0.1->augmax) (4.4.0)\r\n",
      "Requirement already satisfied: numpy>=1.20 in /opt/conda/lib/python3.7/site-packages (from jax>=0.1->augmax) (1.21.6)\r\n",
      "Requirement already satisfied: scipy>=1.5 in /opt/conda/lib/python3.7/site-packages (from jax>=0.1->augmax) (1.7.3)\r\n",
      "Requirement already satisfied: opt-einsum in /opt/conda/lib/python3.7/site-packages (from jax>=0.1->augmax) (3.3.0)\r\n",
      "Installing collected packages: einops, augmax\r\n",
      "Successfully installed augmax-0.3.1 einops-0.6.1\r\n",
      "\u001b[33mWARNING: Running pip as the 'root' user can result in broken permissions and conflicting behaviour with the system package manager. It is recommended to use a virtual environment instead: https://pip.pypa.io/warnings/venv\u001b[0m\u001b[33m\r\n",
      "\u001b[0m"
     ]
    }
   ],
   "source": [
    "!pip install augmax"
   ]
  },
  {
   "cell_type": "code",
   "execution_count": 2,
   "id": "3232c375",
   "metadata": {
    "execution": {
     "iopub.execute_input": "2023-04-23T01:08:06.630213Z",
     "iopub.status.busy": "2023-04-23T01:08:06.629231Z",
     "iopub.status.idle": "2023-04-23T01:08:16.871709Z",
     "shell.execute_reply": "2023-04-23T01:08:16.870371Z"
    },
    "papermill": {
     "duration": 10.254836,
     "end_time": "2023-04-23T01:08:16.874887",
     "exception": false,
     "start_time": "2023-04-23T01:08:06.620051",
     "status": "completed"
    },
    "tags": []
   },
   "outputs": [
    {
     "name": "stdout",
     "output_type": "stream",
     "text": [
      "Requirement already satisfied: orbax in /opt/conda/lib/python3.7/site-packages (0.1.0)\r\n",
      "Requirement already satisfied: pytest in /opt/conda/lib/python3.7/site-packages (from orbax) (7.2.2)\r\n",
      "Requirement already satisfied: importlib_resources in /opt/conda/lib/python3.7/site-packages (from orbax) (5.10.2)\r\n",
      "Requirement already satisfied: cached_property in /opt/conda/lib/python3.7/site-packages (from orbax) (1.5.2)\r\n",
      "Requirement already satisfied: absl-py in /opt/conda/lib/python3.7/site-packages (from orbax) (1.4.0)\r\n",
      "Requirement already satisfied: pyyaml in /opt/conda/lib/python3.7/site-packages (from orbax) (6.0)\r\n",
      "Requirement already satisfied: tensorstore>=0.1.20 in /opt/conda/lib/python3.7/site-packages (from orbax) (0.1.28)\r\n",
      "Requirement already satisfied: jax in /opt/conda/lib/python3.7/site-packages (from orbax) (0.3.25)\r\n",
      "Requirement already satisfied: numpy in /opt/conda/lib/python3.7/site-packages (from orbax) (1.21.6)\r\n",
      "Requirement already satisfied: etils in /opt/conda/lib/python3.7/site-packages (from orbax) (0.9.0)\r\n",
      "Requirement already satisfied: jaxlib in /opt/conda/lib/python3.7/site-packages (from orbax) (0.3.25+cuda11.cudnn805)\r\n",
      "Requirement already satisfied: flax in /opt/conda/lib/python3.7/site-packages (from orbax) (0.6.4)\r\n",
      "Requirement already satisfied: typing-extensions>=4.1.1 in /opt/conda/lib/python3.7/site-packages (from flax->orbax) (4.4.0)\r\n",
      "Requirement already satisfied: matplotlib in /opt/conda/lib/python3.7/site-packages (from flax->orbax) (3.5.3)\r\n",
      "Requirement already satisfied: optax in /opt/conda/lib/python3.7/site-packages (from flax->orbax) (0.1.4)\r\n",
      "Requirement already satisfied: rich>=11.1 in /opt/conda/lib/python3.7/site-packages (from flax->orbax) (13.2.0)\r\n",
      "Requirement already satisfied: msgpack in /opt/conda/lib/python3.7/site-packages (from flax->orbax) (1.0.4)\r\n",
      "Requirement already satisfied: opt-einsum in /opt/conda/lib/python3.7/site-packages (from jax->orbax) (3.3.0)\r\n",
      "Requirement already satisfied: scipy>=1.5 in /opt/conda/lib/python3.7/site-packages (from jax->orbax) (1.7.3)\r\n",
      "Requirement already satisfied: zipp>=3.1.0 in /opt/conda/lib/python3.7/site-packages (from importlib_resources->orbax) (3.11.0)\r\n",
      "Requirement already satisfied: attrs>=19.2.0 in /opt/conda/lib/python3.7/site-packages (from pytest->orbax) (22.2.0)\r\n",
      "Requirement already satisfied: iniconfig in /opt/conda/lib/python3.7/site-packages (from pytest->orbax) (2.0.0)\r\n",
      "Requirement already satisfied: packaging in /opt/conda/lib/python3.7/site-packages (from pytest->orbax) (23.0)\r\n",
      "Requirement already satisfied: importlib-metadata>=0.12 in /opt/conda/lib/python3.7/site-packages (from pytest->orbax) (4.11.4)\r\n",
      "Requirement already satisfied: pluggy<2.0,>=0.12 in /opt/conda/lib/python3.7/site-packages (from pytest->orbax) (1.0.0)\r\n",
      "Requirement already satisfied: tomli>=1.0.0 in /opt/conda/lib/python3.7/site-packages (from pytest->orbax) (2.0.1)\r\n",
      "Requirement already satisfied: exceptiongroup>=1.0.0rc8 in /opt/conda/lib/python3.7/site-packages (from pytest->orbax) (1.1.1)\r\n",
      "Requirement already satisfied: pygments<3.0.0,>=2.6.0 in /opt/conda/lib/python3.7/site-packages (from rich>=11.1->flax->orbax) (2.14.0)\r\n",
      "Requirement already satisfied: markdown-it-py<3.0.0,>=2.1.0 in /opt/conda/lib/python3.7/site-packages (from rich>=11.1->flax->orbax) (2.1.0)\r\n",
      "Requirement already satisfied: cycler>=0.10 in /opt/conda/lib/python3.7/site-packages (from matplotlib->flax->orbax) (0.11.0)\r\n",
      "Requirement already satisfied: fonttools>=4.22.0 in /opt/conda/lib/python3.7/site-packages (from matplotlib->flax->orbax) (4.38.0)\r\n",
      "Requirement already satisfied: pillow>=6.2.0 in /opt/conda/lib/python3.7/site-packages (from matplotlib->flax->orbax) (9.4.0)\r\n",
      "Requirement already satisfied: kiwisolver>=1.0.1 in /opt/conda/lib/python3.7/site-packages (from matplotlib->flax->orbax) (1.4.4)\r\n",
      "Requirement already satisfied: pyparsing>=2.2.1 in /opt/conda/lib/python3.7/site-packages (from matplotlib->flax->orbax) (3.0.9)\r\n",
      "Requirement already satisfied: python-dateutil>=2.7 in /opt/conda/lib/python3.7/site-packages (from matplotlib->flax->orbax) (2.8.2)\r\n",
      "Requirement already satisfied: chex>=0.1.5 in /opt/conda/lib/python3.7/site-packages (from optax->flax->orbax) (0.1.5)\r\n",
      "Requirement already satisfied: toolz>=0.9.0 in /opt/conda/lib/python3.7/site-packages (from chex>=0.1.5->optax->flax->orbax) (0.11.2)\r\n",
      "Requirement already satisfied: dm-tree>=0.1.5 in /opt/conda/lib/python3.7/site-packages (from chex>=0.1.5->optax->flax->orbax) (0.1.8)\r\n",
      "Requirement already satisfied: mdurl~=0.1 in /opt/conda/lib/python3.7/site-packages (from markdown-it-py<3.0.0,>=2.1.0->rich>=11.1->flax->orbax) (0.1.2)\r\n",
      "Requirement already satisfied: six>=1.5 in /opt/conda/lib/python3.7/site-packages (from python-dateutil>=2.7->matplotlib->flax->orbax) (1.16.0)\r\n",
      "\u001b[33mWARNING: Running pip as the 'root' user can result in broken permissions and conflicting behaviour with the system package manager. It is recommended to use a virtual environment instead: https://pip.pypa.io/warnings/venv\u001b[0m\u001b[33m\r\n",
      "\u001b[0m"
     ]
    }
   ],
   "source": [
    "! pip install orbax"
   ]
  },
  {
   "cell_type": "code",
   "execution_count": 3,
   "id": "699a1ae6",
   "metadata": {
    "execution": {
     "iopub.execute_input": "2023-04-23T01:08:16.896040Z",
     "iopub.status.busy": "2023-04-23T01:08:16.895677Z",
     "iopub.status.idle": "2023-04-23T01:08:27.412303Z",
     "shell.execute_reply": "2023-04-23T01:08:27.411109Z"
    },
    "papermill": {
     "duration": 10.530169,
     "end_time": "2023-04-23T01:08:27.414892",
     "exception": false,
     "start_time": "2023-04-23T01:08:16.884723",
     "status": "completed"
    },
    "tags": []
   },
   "outputs": [
    {
     "name": "stdout",
     "output_type": "stream",
     "text": [
      "Requirement already satisfied: nest-asyncio in /opt/conda/lib/python3.7/site-packages (1.5.6)\r\n",
      "\u001b[33mWARNING: Running pip as the 'root' user can result in broken permissions and conflicting behaviour with the system package manager. It is recommended to use a virtual environment instead: https://pip.pypa.io/warnings/venv\u001b[0m\u001b[33m\r\n",
      "\u001b[0m"
     ]
    }
   ],
   "source": [
    "!pip install nest-asyncio"
   ]
  },
  {
   "cell_type": "code",
   "execution_count": 4,
   "id": "597598ef",
   "metadata": {
    "execution": {
     "iopub.execute_input": "2023-04-23T01:08:27.435949Z",
     "iopub.status.busy": "2023-04-23T01:08:27.434919Z",
     "iopub.status.idle": "2023-04-23T01:08:27.444734Z",
     "shell.execute_reply": "2023-04-23T01:08:27.443751Z"
    },
    "papermill": {
     "duration": 0.021801,
     "end_time": "2023-04-23T01:08:27.446875",
     "exception": false,
     "start_time": "2023-04-23T01:08:27.425074",
     "status": "completed"
    },
    "tags": []
   },
   "outputs": [],
   "source": [
    "import nest_asyncio\n",
    "nest_asyncio.apply()"
   ]
  },
  {
   "cell_type": "code",
   "execution_count": 5,
   "id": "d8073462",
   "metadata": {
    "execution": {
     "iopub.execute_input": "2023-04-23T01:08:27.466125Z",
     "iopub.status.busy": "2023-04-23T01:08:27.465225Z",
     "iopub.status.idle": "2023-04-23T01:08:27.470247Z",
     "shell.execute_reply": "2023-04-23T01:08:27.469230Z"
    },
    "papermill": {
     "duration": 0.0169,
     "end_time": "2023-04-23T01:08:27.472436",
     "exception": false,
     "start_time": "2023-04-23T01:08:27.455536",
     "status": "completed"
    },
    "tags": []
   },
   "outputs": [],
   "source": [
    "import os\n",
    "os.environ[\"XLA_FLAGS\"] = '--xla_force_host_platform_device_count=8'"
   ]
  },
  {
   "cell_type": "code",
   "execution_count": 6,
   "id": "5f0aff98",
   "metadata": {
    "execution": {
     "iopub.execute_input": "2023-04-23T01:08:27.491875Z",
     "iopub.status.busy": "2023-04-23T01:08:27.490882Z",
     "iopub.status.idle": "2023-04-23T01:08:32.332986Z",
     "shell.execute_reply": "2023-04-23T01:08:32.331842Z"
    },
    "papermill": {
     "duration": 4.854549,
     "end_time": "2023-04-23T01:08:32.335552",
     "exception": false,
     "start_time": "2023-04-23T01:08:27.481003",
     "status": "completed"
    },
    "tags": []
   },
   "outputs": [],
   "source": [
    "## jax\n",
    "import jax\n",
    "import jax.numpy as jnp\n",
    "from jax import grad, jit, vmap, pmap\n",
    "from jax.experimental.pjit import pjit\n",
    "from jax import lax\n",
    "from jax import random\n",
    "\n",
    "from jax import make_jaxpr\n",
    "from jax import device_put\n",
    "\n",
    "## Flax\n",
    "from flax.core import freeze, unfreeze\n",
    "from flax import linen as nn\n",
    "from flax.training import train_state\n",
    "from flax import traverse_util\n",
    "\n",
    "from orbax.checkpoint import*\n",
    "\n",
    "# Optimizer for flax\n",
    "import optax\n",
    "\n",
    "import augmax as AUX\n",
    "from PIL import Image\n",
    "import cv2\n",
    "import numpy as np\n",
    "import pandas as pd\n",
    "from sklearn import datasets\n",
    "import matplotlib.pyplot as plt\n",
    "\n",
    "from sklearn.model_selection import KFold, StratifiedKFold\n",
    "\n",
    "from transformers import FlaxViTModel,FlaxCLIPModel,FlaxBeitModel,FlaxCLIPVisionModel\n",
    "\n",
    "import os\n",
    "import gc\n",
    "from functools import partial\n",
    "from tqdm import tqdm\n",
    "import seaborn as sns"
   ]
  },
  {
   "cell_type": "markdown",
   "id": "16131664",
   "metadata": {
    "papermill": {
     "duration": 0.008179,
     "end_time": "2023-04-23T01:08:32.352525",
     "exception": false,
     "start_time": "2023-04-23T01:08:32.344346",
     "status": "completed"
    },
    "tags": []
   },
   "source": [
    "# Import Data"
   ]
  },
  {
   "cell_type": "code",
   "execution_count": 7,
   "id": "1149e57c",
   "metadata": {
    "execution": {
     "iopub.execute_input": "2023-04-23T01:08:32.370746Z",
     "iopub.status.busy": "2023-04-23T01:08:32.370113Z",
     "iopub.status.idle": "2023-04-23T01:08:32.400632Z",
     "shell.execute_reply": "2023-04-23T01:08:32.399260Z"
    },
    "papermill": {
     "duration": 0.041953,
     "end_time": "2023-04-23T01:08:32.402810",
     "exception": false,
     "start_time": "2023-04-23T01:08:32.360857",
     "status": "completed"
    },
    "tags": []
   },
   "outputs": [],
   "source": [
    "train_df_orig = pd.read_csv('../input/hackathon-online-phuket-landmark-recognition/train.csv')\n",
    "test_df_orig = pd.read_csv('../input/hackathon-online-phuket-landmark-recognition/test.csv')\n",
    "train_df = train_df_orig.rename( columns = {'id':'filename'} )\n",
    "test_df_submit = test_df_orig.rename( columns = {'id':'filename'} )"
   ]
  },
  {
   "cell_type": "code",
   "execution_count": 8,
   "id": "496ba24d",
   "metadata": {
    "execution": {
     "iopub.execute_input": "2023-04-23T01:08:32.421081Z",
     "iopub.status.busy": "2023-04-23T01:08:32.420794Z",
     "iopub.status.idle": "2023-04-23T01:08:32.425261Z",
     "shell.execute_reply": "2023-04-23T01:08:32.424178Z"
    },
    "papermill": {
     "duration": 0.01639,
     "end_time": "2023-04-23T01:08:32.427731",
     "exception": false,
     "start_time": "2023-04-23T01:08:32.411341",
     "status": "completed"
    },
    "tags": []
   },
   "outputs": [],
   "source": [
    "m_train_path =  '../input/hackathon-online-phuket-landmark-recognition/images/images/train/'\n",
    "m_test_path = '../input/hackathon-online-phuket-landmark-recognition/images/images/test/'"
   ]
  },
  {
   "cell_type": "code",
   "execution_count": 9,
   "id": "376fd0b0",
   "metadata": {
    "execution": {
     "iopub.execute_input": "2023-04-23T01:08:32.446423Z",
     "iopub.status.busy": "2023-04-23T01:08:32.446160Z",
     "iopub.status.idle": "2023-04-23T01:08:32.457506Z",
     "shell.execute_reply": "2023-04-23T01:08:32.456620Z"
    },
    "papermill": {
     "duration": 0.023517,
     "end_time": "2023-04-23T01:08:32.459672",
     "exception": false,
     "start_time": "2023-04-23T01:08:32.436155",
     "status": "completed"
    },
    "tags": []
   },
   "outputs": [],
   "source": [
    "train_df['filepath'] = [ m_train_path + x for x in train_df['filename'] ]\n",
    "test_df_submit['filepath'] = [ m_test_path + x for x in test_df_submit['filename'] ]"
   ]
  },
  {
   "cell_type": "code",
   "execution_count": 10,
   "id": "c9b71cdc",
   "metadata": {
    "execution": {
     "iopub.execute_input": "2023-04-23T01:08:32.477966Z",
     "iopub.status.busy": "2023-04-23T01:08:32.477386Z",
     "iopub.status.idle": "2023-04-23T01:08:32.493833Z",
     "shell.execute_reply": "2023-04-23T01:08:32.492700Z"
    },
    "papermill": {
     "duration": 0.027999,
     "end_time": "2023-04-23T01:08:32.496078",
     "exception": false,
     "start_time": "2023-04-23T01:08:32.468079",
     "status": "completed"
    },
    "tags": []
   },
   "outputs": [
    {
     "data": {
      "text/html": [
       "<div>\n",
       "<style scoped>\n",
       "    .dataframe tbody tr th:only-of-type {\n",
       "        vertical-align: middle;\n",
       "    }\n",
       "\n",
       "    .dataframe tbody tr th {\n",
       "        vertical-align: top;\n",
       "    }\n",
       "\n",
       "    .dataframe thead th {\n",
       "        text-align: right;\n",
       "    }\n",
       "</style>\n",
       "<table border=\"1\" class=\"dataframe\">\n",
       "  <thead>\n",
       "    <tr style=\"text-align: right;\">\n",
       "      <th></th>\n",
       "      <th>filename</th>\n",
       "      <th>label</th>\n",
       "      <th>filepath</th>\n",
       "    </tr>\n",
       "  </thead>\n",
       "  <tbody>\n",
       "    <tr>\n",
       "      <th>0</th>\n",
       "      <td>dc8ca8843cc05c937ae4086da5ad49f1.jpg</td>\n",
       "      <td>7</td>\n",
       "      <td>../input/hackathon-online-phuket-landmark-reco...</td>\n",
       "    </tr>\n",
       "    <tr>\n",
       "      <th>1</th>\n",
       "      <td>abf428c748961ce38012c04fb4f67a0a.jpg</td>\n",
       "      <td>10</td>\n",
       "      <td>../input/hackathon-online-phuket-landmark-reco...</td>\n",
       "    </tr>\n",
       "    <tr>\n",
       "      <th>2</th>\n",
       "      <td>7bef6daf30000b2bb9e57af7bc87b780.jpg</td>\n",
       "      <td>1</td>\n",
       "      <td>../input/hackathon-online-phuket-landmark-reco...</td>\n",
       "    </tr>\n",
       "    <tr>\n",
       "      <th>3</th>\n",
       "      <td>db6f12a84dedc23e3d55320a9149d69a.jpg</td>\n",
       "      <td>7</td>\n",
       "      <td>../input/hackathon-online-phuket-landmark-reco...</td>\n",
       "    </tr>\n",
       "    <tr>\n",
       "      <th>4</th>\n",
       "      <td>8d17fcf554881b42a070162c19f73f3a.jpg</td>\n",
       "      <td>8</td>\n",
       "      <td>../input/hackathon-online-phuket-landmark-reco...</td>\n",
       "    </tr>\n",
       "    <tr>\n",
       "      <th>...</th>\n",
       "      <td>...</td>\n",
       "      <td>...</td>\n",
       "      <td>...</td>\n",
       "    </tr>\n",
       "    <tr>\n",
       "      <th>2720</th>\n",
       "      <td>50db1fe1991abf6aaf36f6f4f1b66cd4.jpg</td>\n",
       "      <td>3</td>\n",
       "      <td>../input/hackathon-online-phuket-landmark-reco...</td>\n",
       "    </tr>\n",
       "    <tr>\n",
       "      <th>2721</th>\n",
       "      <td>c0cdb5a4aa8060e763bcaae3cd7cc702.jpg</td>\n",
       "      <td>14</td>\n",
       "      <td>../input/hackathon-online-phuket-landmark-reco...</td>\n",
       "    </tr>\n",
       "    <tr>\n",
       "      <th>2722</th>\n",
       "      <td>c953c76faa7580b3b00be8856f6e9d98.jpg</td>\n",
       "      <td>8</td>\n",
       "      <td>../input/hackathon-online-phuket-landmark-reco...</td>\n",
       "    </tr>\n",
       "    <tr>\n",
       "      <th>2723</th>\n",
       "      <td>174cae6121652e3527460e8f52672875.jpg</td>\n",
       "      <td>4</td>\n",
       "      <td>../input/hackathon-online-phuket-landmark-reco...</td>\n",
       "    </tr>\n",
       "    <tr>\n",
       "      <th>2724</th>\n",
       "      <td>86d093e63af91050ede4a16c2965844d.jpg</td>\n",
       "      <td>13</td>\n",
       "      <td>../input/hackathon-online-phuket-landmark-reco...</td>\n",
       "    </tr>\n",
       "  </tbody>\n",
       "</table>\n",
       "<p>2725 rows × 3 columns</p>\n",
       "</div>"
      ],
      "text/plain": [
       "                                  filename  label  \\\n",
       "0     dc8ca8843cc05c937ae4086da5ad49f1.jpg      7   \n",
       "1     abf428c748961ce38012c04fb4f67a0a.jpg     10   \n",
       "2     7bef6daf30000b2bb9e57af7bc87b780.jpg      1   \n",
       "3     db6f12a84dedc23e3d55320a9149d69a.jpg      7   \n",
       "4     8d17fcf554881b42a070162c19f73f3a.jpg      8   \n",
       "...                                    ...    ...   \n",
       "2720  50db1fe1991abf6aaf36f6f4f1b66cd4.jpg      3   \n",
       "2721  c0cdb5a4aa8060e763bcaae3cd7cc702.jpg     14   \n",
       "2722  c953c76faa7580b3b00be8856f6e9d98.jpg      8   \n",
       "2723  174cae6121652e3527460e8f52672875.jpg      4   \n",
       "2724  86d093e63af91050ede4a16c2965844d.jpg     13   \n",
       "\n",
       "                                               filepath  \n",
       "0     ../input/hackathon-online-phuket-landmark-reco...  \n",
       "1     ../input/hackathon-online-phuket-landmark-reco...  \n",
       "2     ../input/hackathon-online-phuket-landmark-reco...  \n",
       "3     ../input/hackathon-online-phuket-landmark-reco...  \n",
       "4     ../input/hackathon-online-phuket-landmark-reco...  \n",
       "...                                                 ...  \n",
       "2720  ../input/hackathon-online-phuket-landmark-reco...  \n",
       "2721  ../input/hackathon-online-phuket-landmark-reco...  \n",
       "2722  ../input/hackathon-online-phuket-landmark-reco...  \n",
       "2723  ../input/hackathon-online-phuket-landmark-reco...  \n",
       "2724  ../input/hackathon-online-phuket-landmark-reco...  \n",
       "\n",
       "[2725 rows x 3 columns]"
      ]
     },
     "execution_count": 10,
     "metadata": {},
     "output_type": "execute_result"
    }
   ],
   "source": [
    "train_df"
   ]
  },
  {
   "cell_type": "markdown",
   "id": "19e4a3a2",
   "metadata": {
    "papermill": {
     "duration": 0.0084,
     "end_time": "2023-04-23T01:08:32.513154",
     "exception": false,
     "start_time": "2023-04-23T01:08:32.504754",
     "status": "completed"
    },
    "tags": []
   },
   "source": [
    "# EDA"
   ]
  },
  {
   "cell_type": "code",
   "execution_count": 11,
   "id": "51f72db2",
   "metadata": {
    "execution": {
     "iopub.execute_input": "2023-04-23T01:08:32.531943Z",
     "iopub.status.busy": "2023-04-23T01:08:32.531135Z",
     "iopub.status.idle": "2023-04-23T01:08:32.535953Z",
     "shell.execute_reply": "2023-04-23T01:08:32.535069Z"
    },
    "papermill": {
     "duration": 0.016213,
     "end_time": "2023-04-23T01:08:32.537993",
     "exception": false,
     "start_time": "2023-04-23T01:08:32.521780",
     "status": "completed"
    },
    "tags": []
   },
   "outputs": [],
   "source": [
    "# rand_arr = np.random.randint(0,135,5)\n",
    "# vrows = 5\n",
    "# fig, axes = plt.subplots(15,vrows,figsize = (12,12))\n",
    "# for i in tqdm(range(15)):\n",
    "#     for j,d in enumerate(rand_arr):\n",
    "#         img_path = train_df[train_df.label == i].iloc[d,0]\n",
    "#         img_path = m_train_path + img_path\n",
    "#         img_arr = cv2.imread(img_path)\n",
    "#         img_arr = cv2.cvtColor(img_arr, cv2.COLOR_BGR2RGB)\n",
    "        \n",
    "#         ax = axes[i,j]\n",
    "#         ax.imshow(img_arr)\n",
    "#         ax.set_title(f'c : {i}')\n",
    "    "
   ]
  },
  {
   "cell_type": "code",
   "execution_count": 12,
   "id": "beebe9f6",
   "metadata": {
    "execution": {
     "iopub.execute_input": "2023-04-23T01:08:32.558559Z",
     "iopub.status.busy": "2023-04-23T01:08:32.556895Z",
     "iopub.status.idle": "2023-04-23T01:08:32.561883Z",
     "shell.execute_reply": "2023-04-23T01:08:32.560970Z"
    },
    "papermill": {
     "duration": 0.017253,
     "end_time": "2023-04-23T01:08:32.564064",
     "exception": false,
     "start_time": "2023-04-23T01:08:32.546811",
     "status": "completed"
    },
    "tags": []
   },
   "outputs": [],
   "source": [
    "# sns.countplot(x = train_df['label'])"
   ]
  },
  {
   "cell_type": "markdown",
   "id": "5013d25f",
   "metadata": {
    "execution": {
     "iopub.execute_input": "2023-04-22T01:42:37.931777Z",
     "iopub.status.busy": "2023-04-22T01:42:37.931455Z",
     "iopub.status.idle": "2023-04-22T01:42:37.948999Z",
     "shell.execute_reply": "2023-04-22T01:42:37.948107Z",
     "shell.execute_reply.started": "2023-04-22T01:42:37.931745Z"
    },
    "papermill": {
     "duration": 0.008415,
     "end_time": "2023-04-23T01:08:32.581947",
     "exception": false,
     "start_time": "2023-04-23T01:08:32.573532",
     "status": "completed"
    },
    "tags": []
   },
   "source": [
    "# Upsampling"
   ]
  },
  {
   "cell_type": "code",
   "execution_count": 13,
   "id": "6fc7d5b8",
   "metadata": {
    "execution": {
     "iopub.execute_input": "2023-04-23T01:08:32.600852Z",
     "iopub.status.busy": "2023-04-23T01:08:32.600560Z",
     "iopub.status.idle": "2023-04-23T01:08:32.604800Z",
     "shell.execute_reply": "2023-04-23T01:08:32.603766Z"
    },
    "papermill": {
     "duration": 0.015929,
     "end_time": "2023-04-23T01:08:32.606835",
     "exception": false,
     "start_time": "2023-04-23T01:08:32.590906",
     "status": "completed"
    },
    "tags": []
   },
   "outputs": [],
   "source": [
    "# up_df = []\n",
    "# l_max = train_df['label'].value_counts().max()\n",
    "# np.random.seed(1995)\n",
    "# for c in range(train_df['label'].nunique()):\n",
    "#     df = train_df[train_df['label'] == c].reset_index(drop = True)\n",
    "#     up_df.append( \n",
    "#         df.loc[np.random.randint(0,len(df), l_max - len(df))]\n",
    "#     )\n",
    "\n",
    "# print(l_max)"
   ]
  },
  {
   "cell_type": "code",
   "execution_count": 14,
   "id": "d4e89bb4",
   "metadata": {
    "execution": {
     "iopub.execute_input": "2023-04-23T01:08:32.625929Z",
     "iopub.status.busy": "2023-04-23T01:08:32.625051Z",
     "iopub.status.idle": "2023-04-23T01:08:32.629556Z",
     "shell.execute_reply": "2023-04-23T01:08:32.628611Z"
    },
    "papermill": {
     "duration": 0.016308,
     "end_time": "2023-04-23T01:08:32.631874",
     "exception": false,
     "start_time": "2023-04-23T01:08:32.615566",
     "status": "completed"
    },
    "tags": []
   },
   "outputs": [],
   "source": [
    "# up_df.append(train_df)\n",
    "# upsamp_train_df = pd.concat(up_df,ignore_index = True)"
   ]
  },
  {
   "cell_type": "code",
   "execution_count": 15,
   "id": "88e286db",
   "metadata": {
    "execution": {
     "iopub.execute_input": "2023-04-23T01:08:32.650436Z",
     "iopub.status.busy": "2023-04-23T01:08:32.650126Z",
     "iopub.status.idle": "2023-04-23T01:08:32.654165Z",
     "shell.execute_reply": "2023-04-23T01:08:32.653175Z"
    },
    "papermill": {
     "duration": 0.015556,
     "end_time": "2023-04-23T01:08:32.656228",
     "exception": false,
     "start_time": "2023-04-23T01:08:32.640672",
     "status": "completed"
    },
    "tags": []
   },
   "outputs": [],
   "source": [
    "# sns.countplot(x = upsamp_train_df['label'])"
   ]
  },
  {
   "cell_type": "code",
   "execution_count": 16,
   "id": "699087ad",
   "metadata": {
    "execution": {
     "iopub.execute_input": "2023-04-23T01:08:32.675008Z",
     "iopub.status.busy": "2023-04-23T01:08:32.674206Z",
     "iopub.status.idle": "2023-04-23T01:08:32.678702Z",
     "shell.execute_reply": "2023-04-23T01:08:32.677773Z"
    },
    "papermill": {
     "duration": 0.016287,
     "end_time": "2023-04-23T01:08:32.681022",
     "exception": false,
     "start_time": "2023-04-23T01:08:32.664735",
     "status": "completed"
    },
    "tags": []
   },
   "outputs": [],
   "source": [
    "# upsamp_train_df = upsamp_train_df.sample(frac = 1, random_state = 1995).reset_index(drop = True)"
   ]
  },
  {
   "cell_type": "code",
   "execution_count": 17,
   "id": "ef0f3c52",
   "metadata": {
    "execution": {
     "iopub.execute_input": "2023-04-23T01:08:32.701880Z",
     "iopub.status.busy": "2023-04-23T01:08:32.701040Z",
     "iopub.status.idle": "2023-04-23T01:08:32.709549Z",
     "shell.execute_reply": "2023-04-23T01:08:32.708581Z"
    },
    "papermill": {
     "duration": 0.022074,
     "end_time": "2023-04-23T01:08:32.711891",
     "exception": false,
     "start_time": "2023-04-23T01:08:32.689817",
     "status": "completed"
    },
    "tags": []
   },
   "outputs": [],
   "source": [
    "upsamp_train_df = train_df.sample(frac = 1, random_state = 1995).reset_index(drop = True)"
   ]
  },
  {
   "cell_type": "code",
   "execution_count": 18,
   "id": "a6a6befe",
   "metadata": {
    "execution": {
     "iopub.execute_input": "2023-04-23T01:08:32.730989Z",
     "iopub.status.busy": "2023-04-23T01:08:32.730136Z",
     "iopub.status.idle": "2023-04-23T01:08:32.734772Z",
     "shell.execute_reply": "2023-04-23T01:08:32.733844Z"
    },
    "papermill": {
     "duration": 0.016116,
     "end_time": "2023-04-23T01:08:32.736879",
     "exception": false,
     "start_time": "2023-04-23T01:08:32.720763",
     "status": "completed"
    },
    "tags": []
   },
   "outputs": [],
   "source": [
    "# upsamp_train_df"
   ]
  },
  {
   "cell_type": "markdown",
   "id": "e31330ba",
   "metadata": {
    "papermill": {
     "duration": 0.008217,
     "end_time": "2023-04-23T01:08:32.753871",
     "exception": false,
     "start_time": "2023-04-23T01:08:32.745654",
     "status": "completed"
    },
    "tags": []
   },
   "source": [
    "# Preprocessing"
   ]
  },
  {
   "cell_type": "code",
   "execution_count": 19,
   "id": "9862dbd5",
   "metadata": {
    "execution": {
     "iopub.execute_input": "2023-04-23T01:08:32.772975Z",
     "iopub.status.busy": "2023-04-23T01:08:32.772141Z",
     "iopub.status.idle": "2023-04-23T01:08:32.778147Z",
     "shell.execute_reply": "2023-04-23T01:08:32.777240Z"
    },
    "papermill": {
     "duration": 0.017719,
     "end_time": "2023-04-23T01:08:32.780417",
     "exception": false,
     "start_time": "2023-04-23T01:08:32.762698",
     "status": "completed"
    },
    "tags": []
   },
   "outputs": [],
   "source": [
    "transform = AUX.Chain(\n",
    "    AUX.HorizontalFlip(p = .2),\n",
    "    AUX.VerticalFlip(p = .2),\n",
    "    AUX.Rotate(p = .2),\n",
    "#     AUX.RandomContrast(range = (-.5,.5),p = .2),\n",
    "#     AUX.RandomBrightness(p = .2),\n",
    "#     AUX.GaussianBlur(p = .2),\n",
    "    AUX.Warp(3,64),\n",
    "    AUX.ByteToFloat(),\n",
    "    AUX.Normalize(),\n",
    ")"
   ]
  },
  {
   "cell_type": "code",
   "execution_count": 20,
   "id": "b912b1d9",
   "metadata": {
    "execution": {
     "iopub.execute_input": "2023-04-23T01:08:32.799049Z",
     "iopub.status.busy": "2023-04-23T01:08:32.798268Z",
     "iopub.status.idle": "2023-04-23T01:08:32.810987Z",
     "shell.execute_reply": "2023-04-23T01:08:32.809927Z"
    },
    "papermill": {
     "duration": 0.024128,
     "end_time": "2023-04-23T01:08:32.812979",
     "exception": false,
     "start_time": "2023-04-23T01:08:32.788851",
     "status": "completed"
    },
    "tags": []
   },
   "outputs": [],
   "source": [
    "class Dataload:\n",
    "    def __init__(self,df,classes = None,img_size = 224,batch_size = 32,transform = None):\n",
    "        self.classes = classes\n",
    "        self.df = df\n",
    "        self.batch_size = batch_size\n",
    "        self.transform = transform\n",
    "        self.rng = random.PRNGKey(1995)\n",
    "        self.datasize = len(self.df)\n",
    "        self.batch_idx = list(range(0,self.datasize,self.batch_size))\n",
    "        self.img_size = img_size\n",
    "        \n",
    "        ### modify\n",
    "        \n",
    "    def get_batch(self,idx,train = True):\n",
    "#         data_batch = np.zeros((self.batch_size,self.img_size,self.img_size,3))\n",
    "        data_batch = []\n",
    "        label_batch = list()\n",
    "        sliced_df = self.df[ idx:idx + self.batch_size ]\n",
    "        for i,data in enumerate(sliced_df.iterrows()):\n",
    "            img = cv2.imread(data[1]['filepath'],cv2.IMREAD_COLOR)\n",
    "#             img = jnp.array(img,dtype = jnp.float32)\n",
    "            img = cv2.resize(img,(self.img_size,self.img_size))\n",
    "            data_batch.append(img)\n",
    "            \n",
    "            if train:\n",
    "                label = data[1]['label']\n",
    "                z = np.zeros(self.classes)\n",
    "                z[label] = 1\n",
    "                label_batch.append(z)\n",
    "        \n",
    "        # Random mini Batch        \n",
    "        if train:\n",
    "            idx = np.arange(len(data_batch))\n",
    "            idx = np.random.shuffle(idx)\n",
    "            label_batch = np.array(label_batch)[idx,:]\n",
    "            data_batch = np.array(data_batch)\n",
    "            data_batch = data_batch[idx,:][0]\n",
    "        \n",
    "        data_batch = jnp.array(data_batch,dtype = jnp.float32)\n",
    "        \n",
    "        if self.transform:\n",
    "            if train:\n",
    "                data_batch = jax.jit(jax.vmap(self.transform, in_axes = [None, 0]),device = jax.devices(\"gpu\")[0])\\\n",
    "                                (self.rng, data_batch).block_until_ready()\n",
    "            else:\n",
    "                transform = AUX.Chain(\n",
    "                    AUX.ByteToFloat(),\n",
    "                    AUX.Normalize(),\n",
    "                )\n",
    "                data_batch = jax.jit(jax.vmap(transform, in_axes = [None, 0]),device = jax.devices(\"gpu\")[0])\\\n",
    "                                (self.rng, data_batch).block_until_ready()\n",
    "                \n",
    "            \n",
    "        return data_batch,jnp.array(label_batch)"
   ]
  },
  {
   "cell_type": "markdown",
   "id": "82245763",
   "metadata": {
    "papermill": {
     "duration": 0.008622,
     "end_time": "2023-04-23T01:08:32.830656",
     "exception": false,
     "start_time": "2023-04-23T01:08:32.822034",
     "status": "completed"
    },
    "tags": []
   },
   "source": [
    "# Modeling"
   ]
  },
  {
   "cell_type": "code",
   "execution_count": 21,
   "id": "74d7d7b0",
   "metadata": {
    "execution": {
     "iopub.execute_input": "2023-04-23T01:08:32.849887Z",
     "iopub.status.busy": "2023-04-23T01:08:32.848977Z",
     "iopub.status.idle": "2023-04-23T01:08:32.857454Z",
     "shell.execute_reply": "2023-04-23T01:08:32.856525Z"
    },
    "papermill": {
     "duration": 0.020389,
     "end_time": "2023-04-23T01:08:32.859578",
     "exception": false,
     "start_time": "2023-04-23T01:08:32.839189",
     "status": "completed"
    },
    "tags": []
   },
   "outputs": [],
   "source": [
    "class ClassifierHead(nn.Module):\n",
    "    num_classes: int\n",
    "    backbone: nn.Module\n",
    "  \n",
    "\n",
    "    @nn.compact\n",
    "    def __call__(self, x):\n",
    "        x = self.backbone(x).pooler_output\n",
    "        stk = nn.Dense(128, name='head0', kernel_init= nn.initializers.glorot_uniform())(x)\n",
    "#         stk = nn.activation.relu(stk)\n",
    "#         stk = nn.Dense(256, name='head1', kernel_init= nn.initializers.glorot_uniform())(stk)\n",
    "        stk = nn.Dense(64, name='head2', kernel_init= nn.initializers.glorot_uniform())(stk)\n",
    "        stk = nn.activation.relu(stk)\n",
    "        stk = nn.Dense(15, name='head3', kernel_init= nn.initializers.glorot_uniform())(stk)\n",
    "        return stk"
   ]
  },
  {
   "cell_type": "code",
   "execution_count": 22,
   "id": "3f2d2ba3",
   "metadata": {
    "_kg_hide-output": true,
    "execution": {
     "iopub.execute_input": "2023-04-23T01:08:32.878963Z",
     "iopub.status.busy": "2023-04-23T01:08:32.878138Z",
     "iopub.status.idle": "2023-04-23T01:09:30.994726Z",
     "shell.execute_reply": "2023-04-23T01:09:30.993421Z"
    },
    "papermill": {
     "duration": 58.136354,
     "end_time": "2023-04-23T01:09:31.004877",
     "exception": false,
     "start_time": "2023-04-23T01:08:32.868523",
     "status": "completed"
    },
    "tags": []
   },
   "outputs": [
    {
     "data": {
      "application/vnd.jupyter.widget-view+json": {
       "model_id": "848caf388bf74e8e94332dadd7e5dbf4",
       "version_major": 2,
       "version_minor": 0
      },
      "text/plain": [
       "Downloading (…)lve/main/config.json:   0%|          | 0.00/4.52k [00:00<?, ?B/s]"
      ]
     },
     "metadata": {},
     "output_type": "display_data"
    },
    {
     "data": {
      "application/vnd.jupyter.widget-view+json": {
       "model_id": "f5d873884dab41a9a4b1622afe17388b",
       "version_major": 2,
       "version_minor": 0
      },
      "text/plain": [
       "Downloading flax_model.msgpack:   0%|          | 0.00/1.71G [00:00<?, ?B/s]"
      ]
     },
     "metadata": {},
     "output_type": "display_data"
    },
    {
     "name": "stderr",
     "output_type": "stream",
     "text": [
      "Some weights of the model checkpoint at openai/clip-vit-large-patch14 were not used when initializing FlaxCLIPVisionModel: {('text_model', 'encoder', 'layers', '10', 'self_attn', 'v_proj', 'bias'), ('text_model', 'encoder', 'layers', '3', 'layer_norm1', 'scale'), ('text_model', 'encoder', 'layers', '8', 'mlp', 'fc2', 'kernel'), ('text_model', 'encoder', 'layers', '6', 'layer_norm2', 'scale'), ('text_model', 'encoder', 'layers', '10', 'self_attn', 'q_proj', 'bias'), ('text_model', 'encoder', 'layers', '2', 'mlp', 'fc2', 'kernel'), ('text_model', 'encoder', 'layers', '4', 'self_attn', 'out_proj', 'kernel'), ('text_model', 'encoder', 'layers', '0', 'self_attn', 'out_proj', 'kernel'), ('text_model', 'encoder', 'layers', '11', 'self_attn', 'k_proj', 'kernel'), ('text_model', 'encoder', 'layers', '3', 'self_attn', 'k_proj', 'bias'), ('text_model', 'encoder', 'layers', '10', 'mlp', 'fc2', 'kernel'), ('text_model', 'encoder', 'layers', '4', 'self_attn', 'q_proj', 'kernel'), ('text_model', 'encoder', 'layers', '5', 'self_attn', 'v_proj', 'bias'), ('text_model', 'encoder', 'layers', '9', 'self_attn', 'v_proj', 'bias'), ('text_model', 'encoder', 'layers', '0', 'mlp', 'fc2', 'bias'), ('text_model', 'encoder', 'layers', '2', 'layer_norm1', 'scale'), ('text_model', 'encoder', 'layers', '10', 'self_attn', 'k_proj', 'kernel'), ('text_model', 'encoder', 'layers', '5', 'mlp', 'fc2', 'kernel'), ('text_model', 'encoder', 'layers', '2', 'mlp', 'fc1', 'kernel'), ('text_model', 'encoder', 'layers', '5', 'mlp', 'fc1', 'kernel'), ('text_model', 'encoder', 'layers', '7', 'self_attn', 'k_proj', 'bias'), ('text_model', 'encoder', 'layers', '3', 'self_attn', 'v_proj', 'kernel'), ('text_model', 'encoder', 'layers', '2', 'mlp', 'fc1', 'bias'), ('text_model', 'encoder', 'layers', '10', 'self_attn', 'k_proj', 'bias'), ('text_model', 'encoder', 'layers', '5', 'mlp', 'fc2', 'bias'), ('text_model', 'encoder', 'layers', '7', 'layer_norm2', 'bias'), ('text_model', 'encoder', 'layers', '0', 'mlp', 'fc2', 'kernel'), ('text_model', 'final_layer_norm', 'bias'), ('text_model', 'encoder', 'layers', '0', 'layer_norm1', 'scale'), ('text_model', 'encoder', 'layers', '3', 'self_attn', 'v_proj', 'bias'), ('text_model', 'encoder', 'layers', '3', 'layer_norm1', 'bias'), ('text_model', 'encoder', 'layers', '9', 'self_attn', 'v_proj', 'kernel'), ('text_model', 'encoder', 'layers', '0', 'layer_norm1', 'bias'), ('text_model', 'encoder', 'layers', '7', 'self_attn', 'k_proj', 'kernel'), ('text_model', 'encoder', 'layers', '5', 'mlp', 'fc1', 'bias'), ('text_model', 'encoder', 'layers', '4', 'self_attn', 'q_proj', 'bias'), ('text_model', 'encoder', 'layers', '3', 'self_attn', 'k_proj', 'kernel'), ('text_model', 'encoder', 'layers', '4', 'layer_norm1', 'scale'), ('text_model', 'encoder', 'layers', '11', 'self_attn', 'k_proj', 'bias'), ('text_model', 'encoder', 'layers', '7', 'layer_norm2', 'scale'), ('text_model', 'encoder', 'layers', '4', 'layer_norm1', 'bias'), ('text_model', 'encoder', 'layers', '2', 'mlp', 'fc2', 'bias'), ('text_model', 'encoder', 'layers', '10', 'layer_norm2', 'scale'), ('text_model', 'encoder', 'layers', '10', 'self_attn', 'q_proj', 'kernel'), ('text_model', 'encoder', 'layers', '5', 'self_attn', 'v_proj', 'kernel'), ('text_model', 'encoder', 'layers', '10', 'mlp', 'fc2', 'bias'), ('text_model', 'encoder', 'layers', '0', 'layer_norm2', 'scale'), ('text_model', 'encoder', 'layers', '0', 'self_attn', 'out_proj', 'bias'), ('text_model', 'encoder', 'layers', '4', 'self_attn', 'out_proj', 'bias'), ('text_model', 'encoder', 'layers', '5', 'layer_norm2', 'bias'), ('text_model', 'encoder', 'layers', '8', 'mlp', 'fc2', 'bias'), ('text_model', 'encoder', 'layers', '10', 'self_attn', 'v_proj', 'kernel'), ('text_model', 'encoder', 'layers', '10', 'self_attn', 'out_proj', 'kernel'), ('text_model', 'encoder', 'layers', '9', 'mlp', 'fc1', 'kernel'), ('text_model', 'embeddings', 'token_embedding', 'embedding'), ('text_model', 'encoder', 'layers', '3', 'self_attn', 'q_proj', 'bias'), ('text_model', 'encoder', 'layers', '11', 'self_attn', 'v_proj', 'bias'), ('text_model', 'encoder', 'layers', '1', 'layer_norm1', 'bias'), ('text_model', 'encoder', 'layers', '0', 'mlp', 'fc1', 'kernel'), ('text_model', 'encoder', 'layers', '6', 'self_attn', 'k_proj', 'bias'), ('text_model', 'encoder', 'layers', '0', 'self_attn', 'k_proj', 'kernel'), ('text_model', 'encoder', 'layers', '2', 'self_attn', 'q_proj', 'kernel'), ('text_model', 'encoder', 'layers', '2', 'self_attn', 'k_proj', 'bias'), ('text_model', 'encoder', 'layers', '1', 'self_attn', 'k_proj', 'kernel'), ('text_model', 'encoder', 'layers', '10', 'mlp', 'fc1', 'bias'), ('text_model', 'encoder', 'layers', '10', 'layer_norm1', 'scale'), ('text_model', 'encoder', 'layers', '8', 'self_attn', 'v_proj', 'kernel'), ('text_model', 'encoder', 'layers', '2', 'layer_norm2', 'bias'), ('text_model', 'encoder', 'layers', '11', 'self_attn', 'q_proj', 'bias'), ('text_model', 'encoder', 'layers', '4', 'self_attn', 'v_proj', 'bias'), ('text_model', 'encoder', 'layers', '0', 'layer_norm2', 'bias'), ('text_model', 'encoder', 'layers', '0', 'self_attn', 'v_proj', 'bias'), ('text_model', 'encoder', 'layers', '9', 'self_attn', 'k_proj', 'bias'), ('text_model', 'encoder', 'layers', '8', 'self_attn', 'out_proj', 'bias'), ('text_model', 'encoder', 'layers', '1', 'mlp', 'fc1', 'kernel'), ('text_model', 'encoder', 'layers', '7', 'mlp', 'fc2', 'kernel'), ('text_model', 'encoder', 'layers', '2', 'layer_norm2', 'scale'), ('text_model', 'encoder', 'layers', '8', 'mlp', 'fc1', 'kernel'), ('text_model', 'encoder', 'layers', '7', 'self_attn', 'out_proj', 'bias'), ('text_model', 'encoder', 'layers', '5', 'self_attn', 'k_proj', 'bias'), ('text_model', 'encoder', 'layers', '6', 'mlp', 'fc1', 'bias'), ('text_model', 'encoder', 'layers', '2', 'self_attn', 'out_proj', 'kernel'), ('text_model', 'encoder', 'layers', '1', 'self_attn', 'q_proj', 'bias'), ('text_model', 'encoder', 'layers', '6', 'self_attn', 'q_proj', 'bias'), ('text_model', 'encoder', 'layers', '4', 'self_attn', 'k_proj', 'bias'), ('text_model', 'encoder', 'layers', '6', 'layer_norm2', 'bias'), ('text_model', 'encoder', 'layers', '6', 'self_attn', 'out_proj', 'kernel'), ('text_model', 'encoder', 'layers', '9', 'self_attn', 'q_proj', 'bias'), ('text_model', 'encoder', 'layers', '4', 'mlp', 'fc1', 'bias'), ('text_model', 'encoder', 'layers', '7', 'mlp', 'fc1', 'bias'), ('text_model', 'encoder', 'layers', '8', 'self_attn', 'q_proj', 'bias'), ('text_model', 'encoder', 'layers', '1', 'layer_norm2', 'bias'), ('text_model', 'encoder', 'layers', '2', 'self_attn', 'v_proj', 'kernel'), ('text_model', 'encoder', 'layers', '5', 'self_attn', 'q_proj', 'bias'), ('text_model', 'encoder', 'layers', '7', 'self_attn', 'q_proj', 'kernel'), ('logit_scale',), ('text_model', 'encoder', 'layers', '0', 'self_attn', 'q_proj', 'bias'), ('text_model', 'encoder', 'layers', '7', 'self_attn', 'v_proj', 'bias'), ('text_model', 'encoder', 'layers', '11', 'layer_norm2', 'scale'), ('text_model', 'encoder', 'layers', '1', 'mlp', 'fc2', 'kernel'), ('text_model', 'encoder', 'layers', '5', 'self_attn', 'out_proj', 'bias'), ('text_model', 'encoder', 'layers', '11', 'self_attn', 'out_proj', 'bias'), ('text_model', 'encoder', 'layers', '9', 'mlp', 'fc2', 'bias'), ('text_model', 'encoder', 'layers', '4', 'layer_norm2', 'bias'), ('text_model', 'encoder', 'layers', '3', 'self_attn', 'out_proj', 'bias'), ('text_model', 'encoder', 'layers', '8', 'layer_norm1', 'bias'), ('text_model', 'encoder', 'layers', '9', 'layer_norm2', 'scale'), ('text_model', 'encoder', 'layers', '6', 'mlp', 'fc2', 'bias'), ('text_model', 'encoder', 'layers', '1', 'self_attn', 'v_proj', 'kernel'), ('text_model', 'encoder', 'layers', '11', 'mlp', 'fc1', 'kernel'), ('text_model', 'encoder', 'layers', '9', 'self_attn', 'out_proj', 'bias'), ('text_model', 'encoder', 'layers', '3', 'mlp', 'fc1', 'kernel'), ('text_model', 'encoder', 'layers', '8', 'self_attn', 'k_proj', 'bias'), ('text_model', 'encoder', 'layers', '4', 'mlp', 'fc2', 'bias'), ('text_model', 'encoder', 'layers', '8', 'layer_norm1', 'scale'), ('text_model', 'encoder', 'layers', '3', 'mlp', 'fc2', 'kernel'), ('text_model', 'encoder', 'layers', '11', 'layer_norm1', 'scale'), ('text_model', 'encoder', 'layers', '11', 'mlp', 'fc2', 'kernel'), ('visual_projection', 'kernel'), ('text_model', 'encoder', 'layers', '1', 'self_attn', 'out_proj', 'bias'), ('text_model', 'final_layer_norm', 'scale'), ('text_model', 'encoder', 'layers', '6', 'self_attn', 'v_proj', 'kernel'), ('text_model', 'encoder', 'layers', '3', 'mlp', 'fc1', 'bias'), ('text_model', 'encoder', 'layers', '2', 'layer_norm1', 'bias'), ('text_model', 'encoder', 'layers', '6', 'mlp', 'fc2', 'kernel'), ('text_model', 'encoder', 'layers', '6', 'self_attn', 'v_proj', 'bias'), ('text_model', 'encoder', 'layers', '8', 'self_attn', 'k_proj', 'kernel'), ('text_model', 'encoder', 'layers', '9', 'self_attn', 'out_proj', 'kernel'), ('text_model', 'encoder', 'layers', '1', 'layer_norm2', 'scale'), ('text_model', 'encoder', 'layers', '11', 'mlp', 'fc2', 'bias'), ('text_model', 'encoder', 'layers', '3', 'self_attn', 'out_proj', 'kernel'), ('text_model', 'encoder', 'layers', '1', 'self_attn', 'out_proj', 'kernel'), ('text_model', 'encoder', 'layers', '3', 'mlp', 'fc2', 'bias'), ('text_model', 'embeddings', 'position_embedding', 'embedding'), ('text_model', 'encoder', 'layers', '4', 'mlp', 'fc2', 'kernel'), ('text_model', 'encoder', 'layers', '9', 'mlp', 'fc2', 'kernel'), ('text_model', 'encoder', 'layers', '1', 'self_attn', 'v_proj', 'bias'), ('text_model', 'encoder', 'layers', '11', 'mlp', 'fc1', 'bias'), ('text_model', 'encoder', 'layers', '7', 'self_attn', 'v_proj', 'kernel'), ('text_model', 'encoder', 'layers', '2', 'self_attn', 'v_proj', 'bias'), ('text_model', 'encoder', 'layers', '6', 'layer_norm1', 'bias'), ('text_model', 'encoder', 'layers', '8', 'layer_norm2', 'scale'), ('text_model', 'encoder', 'layers', '5', 'layer_norm2', 'scale'), ('text_model', 'encoder', 'layers', '8', 'self_attn', 'q_proj', 'kernel'), ('text_model', 'encoder', 'layers', '5', 'layer_norm1', 'bias'), ('text_model', 'encoder', 'layers', '9', 'layer_norm1', 'scale'), ('text_model', 'encoder', 'layers', '11', 'self_attn', 'out_proj', 'kernel'), ('text_model', 'encoder', 'layers', '5', 'self_attn', 'out_proj', 'kernel'), ('text_model', 'encoder', 'layers', '1', 'mlp', 'fc2', 'bias'), ('text_model', 'encoder', 'layers', '4', 'self_attn', 'k_proj', 'kernel'), ('text_model', 'encoder', 'layers', '7', 'layer_norm1', 'scale'), ('text_model', 'encoder', 'layers', '3', 'layer_norm2', 'scale'), ('text_model', 'encoder', 'layers', '0', 'self_attn', 'q_proj', 'kernel'), ('text_model', 'encoder', 'layers', '7', 'self_attn', 'q_proj', 'bias'), ('text_model', 'encoder', 'layers', '5', 'self_attn', 'q_proj', 'kernel'), ('text_model', 'encoder', 'layers', '11', 'layer_norm1', 'bias'), ('text_model', 'encoder', 'layers', '1', 'self_attn', 'q_proj', 'kernel'), ('text_model', 'encoder', 'layers', '2', 'self_attn', 'out_proj', 'bias'), ('text_model', 'encoder', 'layers', '3', 'layer_norm2', 'bias'), ('text_model', 'encoder', 'layers', '5', 'self_attn', 'k_proj', 'kernel'), ('text_model', 'encoder', 'layers', '7', 'mlp', 'fc1', 'kernel'), ('text_model', 'encoder', 'layers', '9', 'layer_norm1', 'bias'), ('text_model', 'encoder', 'layers', '10', 'layer_norm2', 'bias'), ('text_model', 'encoder', 'layers', '9', 'self_attn', 'q_proj', 'kernel'), ('text_model', 'encoder', 'layers', '4', 'mlp', 'fc1', 'kernel'), ('text_model', 'encoder', 'layers', '6', 'self_attn', 'out_proj', 'bias'), ('text_model', 'encoder', 'layers', '8', 'mlp', 'fc1', 'bias'), ('text_model', 'encoder', 'layers', '8', 'layer_norm2', 'bias'), ('text_model', 'encoder', 'layers', '10', 'layer_norm1', 'bias'), ('text_model', 'encoder', 'layers', '6', 'self_attn', 'q_proj', 'kernel'), ('text_model', 'encoder', 'layers', '7', 'mlp', 'fc2', 'bias'), ('text_model', 'encoder', 'layers', '5', 'layer_norm1', 'scale'), ('text_model', 'encoder', 'layers', '6', 'mlp', 'fc1', 'kernel'), ('text_model', 'encoder', 'layers', '1', 'layer_norm1', 'scale'), ('text_model', 'encoder', 'layers', '7', 'layer_norm1', 'bias'), ('text_model', 'encoder', 'layers', '8', 'self_attn', 'out_proj', 'kernel'), ('text_model', 'encoder', 'layers', '9', 'self_attn', 'k_proj', 'kernel'), ('text_projection', 'kernel'), ('text_model', 'encoder', 'layers', '7', 'self_attn', 'out_proj', 'kernel'), ('text_model', 'encoder', 'layers', '0', 'self_attn', 'v_proj', 'kernel'), ('text_model', 'encoder', 'layers', '6', 'layer_norm1', 'scale'), ('text_model', 'encoder', 'layers', '1', 'mlp', 'fc1', 'bias'), ('text_model', 'encoder', 'layers', '4', 'self_attn', 'v_proj', 'kernel'), ('text_model', 'encoder', 'layers', '11', 'self_attn', 'q_proj', 'kernel'), ('text_model', 'encoder', 'layers', '10', 'mlp', 'fc1', 'kernel'), ('text_model', 'encoder', 'layers', '2', 'self_attn', 'k_proj', 'kernel'), ('text_model', 'encoder', 'layers', '6', 'self_attn', 'k_proj', 'kernel'), ('text_model', 'encoder', 'layers', '11', 'self_attn', 'v_proj', 'kernel'), ('text_model', 'encoder', 'layers', '8', 'self_attn', 'v_proj', 'bias'), ('text_model', 'encoder', 'layers', '3', 'self_attn', 'q_proj', 'kernel'), ('text_model', 'encoder', 'layers', '1', 'self_attn', 'k_proj', 'bias'), ('text_model', 'encoder', 'layers', '2', 'self_attn', 'q_proj', 'bias'), ('text_model', 'encoder', 'layers', '10', 'self_attn', 'out_proj', 'bias'), ('text_model', 'encoder', 'layers', '9', 'mlp', 'fc1', 'bias'), ('text_model', 'encoder', 'layers', '0', 'self_attn', 'k_proj', 'bias'), ('text_model', 'encoder', 'layers', '0', 'mlp', 'fc1', 'bias'), ('text_model', 'encoder', 'layers', '4', 'layer_norm2', 'scale'), ('text_model', 'encoder', 'layers', '9', 'layer_norm2', 'bias'), ('text_model', 'encoder', 'layers', '11', 'layer_norm2', 'bias')}\n",
      "- This IS expected if you are initializing FlaxCLIPVisionModel from the checkpoint of a model trained on another task or with another architecture (e.g. initializing a BertForSequenceClassification model from a BertForPreTraining model).\n",
      "- This IS NOT expected if you are initializing FlaxCLIPVisionModel from the checkpoint of a model that you expect to be exactly identical (initializing a BertForSequenceClassification model from a BertForSequenceClassification model).\n"
     ]
    }
   ],
   "source": [
    "clipmodel = FlaxCLIPVisionModel.from_pretrained(\"openai/clip-vit-large-patch14\")\n",
    "model = ClassifierHead(num_classes = train_df['label'].nunique(), backbone = clipmodel.module)"
   ]
  },
  {
   "cell_type": "code",
   "execution_count": 23,
   "id": "8ab05d3a",
   "metadata": {
    "execution": {
     "iopub.execute_input": "2023-04-23T01:09:31.026731Z",
     "iopub.status.busy": "2023-04-23T01:09:31.026140Z",
     "iopub.status.idle": "2023-04-23T01:09:33.815607Z",
     "shell.execute_reply": "2023-04-23T01:09:33.814400Z"
    },
    "papermill": {
     "duration": 2.803484,
     "end_time": "2023-04-23T01:09:33.818473",
     "exception": false,
     "start_time": "2023-04-23T01:09:31.014989",
     "status": "completed"
    },
    "tags": []
   },
   "outputs": [],
   "source": [
    "x = jnp.empty((1, 224, 224, 3))\n",
    "variables = model.init(jax.random.PRNGKey(1996), x)\n",
    "params = variables['params'].unfreeze()\n",
    "params['backbone'] = clipmodel.params\n",
    "params = freeze(params)"
   ]
  },
  {
   "cell_type": "code",
   "execution_count": 24,
   "id": "2e9f120e",
   "metadata": {
    "execution": {
     "iopub.execute_input": "2023-04-23T01:09:33.838670Z",
     "iopub.status.busy": "2023-04-23T01:09:33.838330Z",
     "iopub.status.idle": "2023-04-23T01:09:33.851639Z",
     "shell.execute_reply": "2023-04-23T01:09:33.850695Z"
    },
    "papermill": {
     "duration": 0.025876,
     "end_time": "2023-04-23T01:09:33.853824",
     "exception": false,
     "start_time": "2023-04-23T01:09:33.827948",
     "status": "completed"
    },
    "tags": []
   },
   "outputs": [],
   "source": [
    "partition_optimizers = {'trainable': optax.adamw(1e-3), 'frozen': optax.set_to_zero()}\n",
    "traverse = traverse_util.path_aware_map( lambda path, v: 'frozen' if 'backbone' in path else 'trainable', params )\n",
    "param_partitions = freeze(traverse)\n",
    "tx = optax.multi_transform(partition_optimizers, param_partitions)"
   ]
  },
  {
   "cell_type": "code",
   "execution_count": 25,
   "id": "80be8dc9",
   "metadata": {
    "execution": {
     "iopub.execute_input": "2023-04-23T01:09:33.873357Z",
     "iopub.status.busy": "2023-04-23T01:09:33.873065Z",
     "iopub.status.idle": "2023-04-23T01:09:34.048739Z",
     "shell.execute_reply": "2023-04-23T01:09:34.047630Z"
    },
    "papermill": {
     "duration": 0.188769,
     "end_time": "2023-04-23T01:09:34.051489",
     "exception": false,
     "start_time": "2023-04-23T01:09:33.862720",
     "status": "completed"
    },
    "tags": []
   },
   "outputs": [],
   "source": [
    "state = train_state.TrainState.create(\n",
    "  apply_fn=model.apply,\n",
    "  params=params,\n",
    "  tx=tx,\n",
    ")"
   ]
  },
  {
   "cell_type": "markdown",
   "id": "b8e0630a",
   "metadata": {
    "papermill": {
     "duration": 0.010252,
     "end_time": "2023-04-23T01:09:34.072017",
     "exception": false,
     "start_time": "2023-04-23T01:09:34.061765",
     "status": "completed"
    },
    "tags": []
   },
   "source": [
    "# Train one step"
   ]
  },
  {
   "cell_type": "code",
   "execution_count": 26,
   "id": "11014226",
   "metadata": {
    "execution": {
     "iopub.execute_input": "2023-04-23T01:09:34.095412Z",
     "iopub.status.busy": "2023-04-23T01:09:34.094308Z",
     "iopub.status.idle": "2023-04-23T01:09:34.107009Z",
     "shell.execute_reply": "2023-04-23T01:09:34.105649Z"
    },
    "papermill": {
     "duration": 0.026957,
     "end_time": "2023-04-23T01:09:34.109442",
     "exception": false,
     "start_time": "2023-04-23T01:09:34.082485",
     "status": "completed"
    },
    "tags": []
   },
   "outputs": [],
   "source": [
    "@jit\n",
    "def train_step(state, batch):\n",
    "    \"\"\"Train for a single step.\"\"\"\n",
    "    def loss_fn(params):\n",
    "        logits = state.apply_fn(\n",
    "            {'params': params},\n",
    "            x=batch[0])\n",
    "        loss = jnp.mean(optax.softmax_cross_entropy(logits, batch[1]))\n",
    "        return loss, logits\n",
    "    grad_fn = jax.value_and_grad(loss_fn, has_aux=True)\n",
    "    (loss, logits), grads = grad_fn(state.params)\n",
    "    state = state.apply_gradients(grads=grads)\n",
    "\n",
    "    metrics = {\n",
    "    'loss': loss,\n",
    "      'accuracy': jnp.mean(jnp.argmax(logits, -1) == jnp.argmax(batch[1],-1)),\n",
    "    }\n",
    "    return state, metrics\n",
    "\n",
    "\n",
    "@jit\n",
    "def eval_step(state, batch):\n",
    "    \"\"\"Eval for a single step.\"\"\"\n",
    "    logits = state.apply_fn(\n",
    "        {'params': state.params},\n",
    "        x=batch[0])\n",
    "    loss = jnp.mean(optax.softmax_cross_entropy(logits, batch[1]))\n",
    "\n",
    "    metrics = {\n",
    "    'loss': loss,\n",
    "      'accuracy': jnp.mean(jnp.argmax(logits, -1) == jnp.argmax(batch[1],-1)),\n",
    "    }\n",
    "    return state, metrics\n",
    "\n",
    "@jit\n",
    "def predict_step(state, batch):\n",
    "    \"\"\"Eval for a single step.\"\"\"\n",
    "    logits = state.apply_fn(\n",
    "        {'params': state.params},\n",
    "        x=batch[0])\n",
    "    return logits"
   ]
  },
  {
   "cell_type": "markdown",
   "id": "c02040b4",
   "metadata": {
    "papermill": {
     "duration": 0.010077,
     "end_time": "2023-04-23T01:09:34.129759",
     "exception": false,
     "start_time": "2023-04-23T01:09:34.119682",
     "status": "completed"
    },
    "tags": []
   },
   "source": [
    "# Train whole dataset"
   ]
  },
  {
   "cell_type": "code",
   "execution_count": 27,
   "id": "8247f988",
   "metadata": {
    "execution": {
     "iopub.execute_input": "2023-04-23T01:09:34.152767Z",
     "iopub.status.busy": "2023-04-23T01:09:34.151763Z",
     "iopub.status.idle": "2023-04-23T01:09:34.164893Z",
     "shell.execute_reply": "2023-04-23T01:09:34.163773Z"
    },
    "papermill": {
     "duration": 0.02735,
     "end_time": "2023-04-23T01:09:34.167360",
     "exception": false,
     "start_time": "2023-04-23T01:09:34.140010",
     "status": "completed"
    },
    "tags": []
   },
   "outputs": [],
   "source": [
    "def _fit(state,train_df,batch_size):\n",
    "    loss = []\n",
    "    auc = []\n",
    "    loader = Dataload(train_df,train_df['label'].nunique(),transform = transform,batch_size = batch_size)\n",
    "    for idx,i in enumerate(tqdm(loader.batch_idx)):\n",
    "        d = loader.get_batch(i)\n",
    "        state, mtx = train_step(state,d)\n",
    "        loss.append(mtx['loss'])\n",
    "        auc.append(mtx['accuracy'])\n",
    "        if (idx + 1) % 10 == 0:\n",
    "            print(f'Loss: {(sum(loss) / (idx+1)):.4f} | AUC:{(sum(auc) / (idx+1)):.4f}')\n",
    "\n",
    "    return state,loss,auc\n",
    "\n",
    "def _eval(state,test_df,batch_size):\n",
    "    loss = []\n",
    "    auc = []\n",
    "    transform_ev = AUX.Chain(\n",
    "                    AUX.ByteToFloat(),\n",
    "                    AUX.Normalize(),\n",
    "                )\n",
    "    loader = Dataload(test_df,test_df['label'].nunique(),transform = transform_ev,batch_size = batch_size)\n",
    "    for idx,i in enumerate(tqdm(loader.batch_idx)):\n",
    "        d = loader.get_batch(i)\n",
    "        state, mtx = eval_step(state,d)\n",
    "        loss.append(mtx['loss'])\n",
    "        auc.append(mtx['accuracy'])\n",
    "    \n",
    "    print(f'Loss: {(sum(loss) / len(loader.batch_idx)):.4f} | AUC:{(sum(auc) / len(loader.batch_idx)):.4f}')\n",
    "    \n",
    "    return state,loss,auc\n",
    "\n",
    "def _predict(state,test_df,batch_size):\n",
    "    logits = []\n",
    "    loader = Dataload(test_df,0,transform = transform,batch_size = batch_size)\n",
    "    for idx,i in enumerate(tqdm(loader.batch_idx)):\n",
    "        d = loader.get_batch(i,train = False)\n",
    "        logit = predict_step(state,d)\n",
    "        logits.append(np.array(jnp.argmax(logit,-1)))\n",
    "    \n",
    "    return logits"
   ]
  },
  {
   "cell_type": "code",
   "execution_count": 28,
   "id": "18269b52",
   "metadata": {
    "_kg_hide-output": true,
    "execution": {
     "iopub.execute_input": "2023-04-23T01:09:34.189216Z",
     "iopub.status.busy": "2023-04-23T01:09:34.188890Z",
     "iopub.status.idle": "2023-04-23T01:23:33.151610Z",
     "shell.execute_reply": "2023-04-23T01:23:33.150320Z"
    },
    "papermill": {
     "duration": 838.976472,
     "end_time": "2023-04-23T01:23:33.153981",
     "exception": false,
     "start_time": "2023-04-23T01:09:34.177509",
     "status": "completed"
    },
    "tags": []
   },
   "outputs": [
    {
     "name": "stdout",
     "output_type": "stream",
     "text": [
      "------- Fold 1 --------\n"
     ]
    },
    {
     "name": "stderr",
     "output_type": "stream",
     "text": [
      " 18%|█▊        | 10/57 [00:36<01:47,  2.30s/it]"
     ]
    },
    {
     "name": "stdout",
     "output_type": "stream",
     "text": [
      "Loss: 2.2992 | AUC:0.2688\n"
     ]
    },
    {
     "name": "stderr",
     "output_type": "stream",
     "text": [
      " 35%|███▌      | 20/57 [00:54<01:21,  2.20s/it]"
     ]
    },
    {
     "name": "stdout",
     "output_type": "stream",
     "text": [
      "Loss: 1.5694 | AUC:0.5141\n"
     ]
    },
    {
     "name": "stderr",
     "output_type": "stream",
     "text": [
      " 53%|█████▎    | 30/57 [01:13<01:01,  2.28s/it]"
     ]
    },
    {
     "name": "stdout",
     "output_type": "stream",
     "text": [
      "Loss: 1.1615 | AUC:0.6469\n"
     ]
    },
    {
     "name": "stderr",
     "output_type": "stream",
     "text": [
      " 70%|███████   | 40/57 [01:32<00:36,  2.17s/it]"
     ]
    },
    {
     "name": "stdout",
     "output_type": "stream",
     "text": [
      "Loss: 0.9643 | AUC:0.7070\n"
     ]
    },
    {
     "name": "stderr",
     "output_type": "stream",
     "text": [
      " 88%|████████▊ | 50/57 [01:50<00:15,  2.16s/it]"
     ]
    },
    {
     "name": "stdout",
     "output_type": "stream",
     "text": [
      "Loss: 0.8310 | AUC:0.7450\n"
     ]
    },
    {
     "name": "stderr",
     "output_type": "stream",
     "text": [
      "100%|██████████| 57/57 [02:19<00:00,  2.46s/it]\n"
     ]
    },
    {
     "name": "stdout",
     "output_type": "stream",
     "text": [
      "------- Fold 2 --------\n"
     ]
    },
    {
     "name": "stderr",
     "output_type": "stream",
     "text": [
      " 18%|█▊        | 10/57 [00:17<01:39,  2.11s/it]"
     ]
    },
    {
     "name": "stdout",
     "output_type": "stream",
     "text": [
      "Loss: 0.2303 | AUC:0.9281\n"
     ]
    },
    {
     "name": "stderr",
     "output_type": "stream",
     "text": [
      " 35%|███▌      | 20/57 [00:36<01:23,  2.25s/it]"
     ]
    },
    {
     "name": "stdout",
     "output_type": "stream",
     "text": [
      "Loss: 0.2140 | AUC:0.9359\n"
     ]
    },
    {
     "name": "stderr",
     "output_type": "stream",
     "text": [
      " 53%|█████▎    | 30/57 [00:54<01:01,  2.29s/it]"
     ]
    },
    {
     "name": "stdout",
     "output_type": "stream",
     "text": [
      "Loss: 0.1985 | AUC:0.9385\n"
     ]
    },
    {
     "name": "stderr",
     "output_type": "stream",
     "text": [
      " 70%|███████   | 40/57 [01:12<00:37,  2.20s/it]"
     ]
    },
    {
     "name": "stdout",
     "output_type": "stream",
     "text": [
      "Loss: 0.1889 | AUC:0.9430\n"
     ]
    },
    {
     "name": "stderr",
     "output_type": "stream",
     "text": [
      " 88%|████████▊ | 50/57 [01:30<00:14,  2.07s/it]"
     ]
    },
    {
     "name": "stdout",
     "output_type": "stream",
     "text": [
      "Loss: 0.1916 | AUC:0.9425\n"
     ]
    },
    {
     "name": "stderr",
     "output_type": "stream",
     "text": [
      "100%|██████████| 57/57 [01:59<00:00,  2.10s/it]\n"
     ]
    },
    {
     "name": "stdout",
     "output_type": "stream",
     "text": [
      "------- Fold 3 --------\n"
     ]
    },
    {
     "name": "stderr",
     "output_type": "stream",
     "text": [
      " 18%|█▊        | 10/57 [00:18<01:44,  2.23s/it]"
     ]
    },
    {
     "name": "stdout",
     "output_type": "stream",
     "text": [
      "Loss: 0.1430 | AUC:0.9500\n"
     ]
    },
    {
     "name": "stderr",
     "output_type": "stream",
     "text": [
      " 35%|███▌      | 20/57 [00:35<01:19,  2.14s/it]"
     ]
    },
    {
     "name": "stdout",
     "output_type": "stream",
     "text": [
      "Loss: 0.1326 | AUC:0.9500\n"
     ]
    },
    {
     "name": "stderr",
     "output_type": "stream",
     "text": [
      " 53%|█████▎    | 30/57 [00:53<00:55,  2.07s/it]"
     ]
    },
    {
     "name": "stdout",
     "output_type": "stream",
     "text": [
      "Loss: 0.1346 | AUC:0.9563\n"
     ]
    },
    {
     "name": "stderr",
     "output_type": "stream",
     "text": [
      " 70%|███████   | 40/57 [01:10<00:34,  2.03s/it]"
     ]
    },
    {
     "name": "stdout",
     "output_type": "stream",
     "text": [
      "Loss: 0.1456 | AUC:0.9563\n"
     ]
    },
    {
     "name": "stderr",
     "output_type": "stream",
     "text": [
      " 88%|████████▊ | 50/57 [01:27<00:14,  2.05s/it]"
     ]
    },
    {
     "name": "stdout",
     "output_type": "stream",
     "text": [
      "Loss: 0.1444 | AUC:0.9562\n"
     ]
    },
    {
     "name": "stderr",
     "output_type": "stream",
     "text": [
      "100%|██████████| 57/57 [01:38<00:00,  1.73s/it]\n"
     ]
    },
    {
     "name": "stdout",
     "output_type": "stream",
     "text": [
      "------- Fold 1 --------\n"
     ]
    },
    {
     "name": "stderr",
     "output_type": "stream",
     "text": [
      " 18%|█▊        | 10/57 [00:17<01:40,  2.13s/it]"
     ]
    },
    {
     "name": "stdout",
     "output_type": "stream",
     "text": [
      "Loss: 0.0999 | AUC:0.9812\n"
     ]
    },
    {
     "name": "stderr",
     "output_type": "stream",
     "text": [
      " 35%|███▌      | 20/57 [00:34<01:17,  2.08s/it]"
     ]
    },
    {
     "name": "stdout",
     "output_type": "stream",
     "text": [
      "Loss: 0.0715 | AUC:0.9844\n"
     ]
    },
    {
     "name": "stderr",
     "output_type": "stream",
     "text": [
      " 53%|█████▎    | 30/57 [00:52<00:57,  2.12s/it]"
     ]
    },
    {
     "name": "stdout",
     "output_type": "stream",
     "text": [
      "Loss: 0.0653 | AUC:0.9854\n"
     ]
    },
    {
     "name": "stderr",
     "output_type": "stream",
     "text": [
      " 70%|███████   | 40/57 [01:09<00:35,  2.07s/it]"
     ]
    },
    {
     "name": "stdout",
     "output_type": "stream",
     "text": [
      "Loss: 0.0703 | AUC:0.9812\n"
     ]
    },
    {
     "name": "stderr",
     "output_type": "stream",
     "text": [
      " 88%|████████▊ | 50/57 [01:27<00:14,  2.09s/it]"
     ]
    },
    {
     "name": "stdout",
     "output_type": "stream",
     "text": [
      "Loss: 0.0746 | AUC:0.9781\n"
     ]
    },
    {
     "name": "stderr",
     "output_type": "stream",
     "text": [
      "100%|██████████| 57/57 [01:38<00:00,  1.72s/it]\n",
      "100%|██████████| 24/24 [01:21<00:00,  3.41s/it]\n"
     ]
    },
    {
     "name": "stdout",
     "output_type": "stream",
     "text": [
      "------- Fold 2 --------\n"
     ]
    },
    {
     "name": "stderr",
     "output_type": "stream",
     "text": [
      " 18%|█▊        | 10/57 [00:16<01:37,  2.07s/it]"
     ]
    },
    {
     "name": "stdout",
     "output_type": "stream",
     "text": [
      "Loss: 0.0674 | AUC:0.9812\n"
     ]
    },
    {
     "name": "stderr",
     "output_type": "stream",
     "text": [
      " 35%|███▌      | 20/57 [00:34<01:19,  2.14s/it]"
     ]
    },
    {
     "name": "stdout",
     "output_type": "stream",
     "text": [
      "Loss: 0.0536 | AUC:0.9828\n"
     ]
    },
    {
     "name": "stderr",
     "output_type": "stream",
     "text": [
      " 53%|█████▎    | 30/57 [00:52<01:00,  2.25s/it]"
     ]
    },
    {
     "name": "stdout",
     "output_type": "stream",
     "text": [
      "Loss: 0.0580 | AUC:0.9844\n"
     ]
    },
    {
     "name": "stderr",
     "output_type": "stream",
     "text": [
      " 70%|███████   | 40/57 [01:10<00:34,  2.05s/it]"
     ]
    },
    {
     "name": "stdout",
     "output_type": "stream",
     "text": [
      "Loss: 0.0552 | AUC:0.9852\n"
     ]
    },
    {
     "name": "stderr",
     "output_type": "stream",
     "text": [
      " 88%|████████▊ | 50/57 [01:27<00:14,  2.06s/it]"
     ]
    },
    {
     "name": "stdout",
     "output_type": "stream",
     "text": [
      "Loss: 0.0588 | AUC:0.9837\n"
     ]
    },
    {
     "name": "stderr",
     "output_type": "stream",
     "text": [
      "100%|██████████| 57/57 [01:37<00:00,  1.72s/it]\n",
      "100%|██████████| 24/24 [00:51<00:00,  2.14s/it]\n"
     ]
    },
    {
     "name": "stdout",
     "output_type": "stream",
     "text": [
      "------- Fold 3 --------\n"
     ]
    },
    {
     "name": "stderr",
     "output_type": "stream",
     "text": [
      " 18%|█▊        | 10/57 [00:17<01:37,  2.08s/it]"
     ]
    },
    {
     "name": "stdout",
     "output_type": "stream",
     "text": [
      "Loss: 0.0485 | AUC:0.9875\n"
     ]
    },
    {
     "name": "stderr",
     "output_type": "stream",
     "text": [
      " 35%|███▌      | 20/57 [00:34<01:17,  2.09s/it]"
     ]
    },
    {
     "name": "stdout",
     "output_type": "stream",
     "text": [
      "Loss: 0.0484 | AUC:0.9859\n"
     ]
    },
    {
     "name": "stderr",
     "output_type": "stream",
     "text": [
      " 53%|█████▎    | 30/57 [00:51<00:56,  2.07s/it]"
     ]
    },
    {
     "name": "stdout",
     "output_type": "stream",
     "text": [
      "Loss: 0.0472 | AUC:0.9875\n"
     ]
    },
    {
     "name": "stderr",
     "output_type": "stream",
     "text": [
      " 70%|███████   | 40/57 [01:09<00:35,  2.08s/it]"
     ]
    },
    {
     "name": "stdout",
     "output_type": "stream",
     "text": [
      "Loss: 0.0515 | AUC:0.9867\n"
     ]
    },
    {
     "name": "stderr",
     "output_type": "stream",
     "text": [
      " 88%|████████▊ | 50/57 [01:26<00:14,  2.07s/it]"
     ]
    },
    {
     "name": "stdout",
     "output_type": "stream",
     "text": [
      "Loss: 0.0515 | AUC:0.9856\n"
     ]
    },
    {
     "name": "stderr",
     "output_type": "stream",
     "text": [
      "100%|██████████| 57/57 [01:37<00:00,  1.72s/it]\n",
      "100%|██████████| 24/24 [00:51<00:00,  2.13s/it]\n"
     ]
    }
   ],
   "source": [
    "fold = KFold(n_splits=3, random_state=1995, shuffle=True)\n",
    "# Watch list\n",
    "train_losses = []\n",
    "test_losses = []\n",
    "\n",
    "train_auc = []\n",
    "test_auc = []\n",
    "\n",
    "oof_losses = []\n",
    "oof_auc = []\n",
    "########\n",
    "\n",
    "#check point manager\n",
    "options = CheckpointManagerOptions(max_to_keep=5)\n",
    "mngr = CheckpointManager(\n",
    "          'zckpt',\n",
    "          {'state': PyTreeCheckpointer()},\n",
    "           options=options)\n",
    "#####\n",
    "\n",
    "oof = upsamp_train_df[:100]\n",
    "\n",
    "ens = []\n",
    "\n",
    "for _ in range(2):\n",
    "    for i, (train_idx, test_idx) in enumerate(fold.split( upsamp_train_df['filename'])):\n",
    "        train_df = upsamp_train_df.loc[train_idx]\n",
    "        test_df = upsamp_train_df.loc[test_idx]\n",
    "        print(f'------- Fold {i+1} --------')\n",
    "        state, loss, auc = _fit(state,train_df,32)\n",
    "        train_losses.append(loss)\n",
    "        train_auc.append(auc)\n",
    "#         print('------ Eval --------')\n",
    "#         state, loss, auc = _eval(state,test_df,32)\n",
    "#         test_losses.append(loss)\n",
    "#         test_auc.append(auc)\n",
    "#         print('------ oof --------')\n",
    "#         state, loss, auc = _eval(state,oof,32)\n",
    "#         oof_losses.append(loss)\n",
    "#         oof_auc.append(auc)\n",
    "        if _ == 1:\n",
    "            logits = _predict(state,test_df_submit,32)\n",
    "            res = []\n",
    "            for ar in logits:\n",
    "                for i in ar:\n",
    "                    res.append(i)\n",
    "            ens.append(res)\n",
    "#     mngr.save(i,{'state':state})\n",
    "    \n",
    "# mngr.wait_until_finished()"
   ]
  },
  {
   "cell_type": "code",
   "execution_count": 29,
   "id": "1ceac05c",
   "metadata": {
    "execution": {
     "iopub.execute_input": "2023-04-23T01:23:33.227464Z",
     "iopub.status.busy": "2023-04-23T01:23:33.225694Z",
     "iopub.status.idle": "2023-04-23T01:23:33.232921Z",
     "shell.execute_reply": "2023-04-23T01:23:33.231713Z"
    },
    "papermill": {
     "duration": 0.046949,
     "end_time": "2023-04-23T01:23:33.235544",
     "exception": false,
     "start_time": "2023-04-23T01:23:33.188595",
     "status": "completed"
    },
    "tags": []
   },
   "outputs": [],
   "source": [
    "a1,a2,a3 = [np.array(x) for x in ens]"
   ]
  },
  {
   "cell_type": "code",
   "execution_count": 30,
   "id": "f71b6537",
   "metadata": {
    "execution": {
     "iopub.execute_input": "2023-04-23T01:23:33.312265Z",
     "iopub.status.busy": "2023-04-23T01:23:33.311931Z",
     "iopub.status.idle": "2023-04-23T01:23:33.317790Z",
     "shell.execute_reply": "2023-04-23T01:23:33.316648Z"
    },
    "papermill": {
     "duration": 0.047004,
     "end_time": "2023-04-23T01:23:33.320695",
     "exception": false,
     "start_time": "2023-04-23T01:23:33.273691",
     "status": "completed"
    },
    "tags": []
   },
   "outputs": [],
   "source": [
    "final = (a1 + a2 + a3) / 3\n",
    "final = final.astype(np.int32)"
   ]
  },
  {
   "cell_type": "code",
   "execution_count": 31,
   "id": "72c68255",
   "metadata": {
    "execution": {
     "iopub.execute_input": "2023-04-23T01:23:33.393916Z",
     "iopub.status.busy": "2023-04-23T01:23:33.392968Z",
     "iopub.status.idle": "2023-04-23T01:23:33.406760Z",
     "shell.execute_reply": "2023-04-23T01:23:33.405799Z"
    },
    "papermill": {
     "duration": 0.05182,
     "end_time": "2023-04-23T01:23:33.409198",
     "exception": false,
     "start_time": "2023-04-23T01:23:33.357378",
     "status": "completed"
    },
    "tags": []
   },
   "outputs": [],
   "source": [
    "sub = pd.read_csv('../input/hackathon-online-phuket-landmark-recognition/submit.csv')\n",
    "sub.predict = final"
   ]
  },
  {
   "cell_type": "code",
   "execution_count": 32,
   "id": "83de5b96",
   "metadata": {
    "execution": {
     "iopub.execute_input": "2023-04-23T01:23:33.481721Z",
     "iopub.status.busy": "2023-04-23T01:23:33.481302Z",
     "iopub.status.idle": "2023-04-23T01:23:33.492730Z",
     "shell.execute_reply": "2023-04-23T01:23:33.491544Z"
    },
    "papermill": {
     "duration": 0.051978,
     "end_time": "2023-04-23T01:23:33.495315",
     "exception": false,
     "start_time": "2023-04-23T01:23:33.443337",
     "status": "completed"
    },
    "tags": []
   },
   "outputs": [],
   "source": [
    "sub.to_csv(\"/kaggle/working/submit.csv\", index = False)"
   ]
  },
  {
   "cell_type": "code",
   "execution_count": null,
   "id": "4690208a",
   "metadata": {
    "papermill": {
     "duration": 0.03398,
     "end_time": "2023-04-23T01:23:33.565679",
     "exception": false,
     "start_time": "2023-04-23T01:23:33.531699",
     "status": "completed"
    },
    "tags": []
   },
   "outputs": [],
   "source": []
  }
 ],
 "metadata": {
  "kernelspec": {
   "display_name": "Python 3",
   "language": "python",
   "name": "python3"
  },
  "language_info": {
   "codemirror_mode": {
    "name": "ipython",
    "version": 3
   },
   "file_extension": ".py",
   "mimetype": "text/x-python",
   "name": "python",
   "nbconvert_exporter": "python",
   "pygments_lexer": "ipython3",
   "version": "3.7.12"
  },
  "papermill": {
   "default_parameters": {},
   "duration": 951.320424,
   "end_time": "2023-04-23T01:23:37.001814",
   "environment_variables": {},
   "exception": null,
   "input_path": "__notebook__.ipynb",
   "output_path": "__notebook__.ipynb",
   "parameters": {},
   "start_time": "2023-04-23T01:07:45.681390",
   "version": "2.4.0"
  },
  "widgets": {
   "application/vnd.jupyter.widget-state+json": {
    "state": {
     "05010baef917458cb8c3d592bfd8ca7a": {
      "model_module": "@jupyter-widgets/controls",
      "model_module_version": "1.5.0",
      "model_name": "HTMLModel",
      "state": {
       "_dom_classes": [],
       "_model_module": "@jupyter-widgets/controls",
       "_model_module_version": "1.5.0",
       "_model_name": "HTMLModel",
       "_view_count": null,
       "_view_module": "@jupyter-widgets/controls",
       "_view_module_version": "1.5.0",
       "_view_name": "HTMLView",
       "description": "",
       "description_tooltip": null,
       "layout": "IPY_MODEL_5c4272ad61e64617be0d70ce74a6e6c6",
       "placeholder": "​",
       "style": "IPY_MODEL_dddc1cd07595405b8d61c1652afc7fec",
       "value": " 4.52k/4.52k [00:00&lt;00:00, 192kB/s]"
      }
     },
     "24aa9db2aa9b4dc99b14bfbbf56a5228": {
      "model_module": "@jupyter-widgets/base",
      "model_module_version": "1.2.0",
      "model_name": "LayoutModel",
      "state": {
       "_model_module": "@jupyter-widgets/base",
       "_model_module_version": "1.2.0",
       "_model_name": "LayoutModel",
       "_view_count": null,
       "_view_module": "@jupyter-widgets/base",
       "_view_module_version": "1.2.0",
       "_view_name": "LayoutView",
       "align_content": null,
       "align_items": null,
       "align_self": null,
       "border": null,
       "bottom": null,
       "display": null,
       "flex": null,
       "flex_flow": null,
       "grid_area": null,
       "grid_auto_columns": null,
       "grid_auto_flow": null,
       "grid_auto_rows": null,
       "grid_column": null,
       "grid_gap": null,
       "grid_row": null,
       "grid_template_areas": null,
       "grid_template_columns": null,
       "grid_template_rows": null,
       "height": null,
       "justify_content": null,
       "justify_items": null,
       "left": null,
       "margin": null,
       "max_height": null,
       "max_width": null,
       "min_height": null,
       "min_width": null,
       "object_fit": null,
       "object_position": null,
       "order": null,
       "overflow": null,
       "overflow_x": null,
       "overflow_y": null,
       "padding": null,
       "right": null,
       "top": null,
       "visibility": null,
       "width": null
      }
     },
     "3ab353e5ee434e549e88f8d86fdde196": {
      "model_module": "@jupyter-widgets/controls",
      "model_module_version": "1.5.0",
      "model_name": "HTMLModel",
      "state": {
       "_dom_classes": [],
       "_model_module": "@jupyter-widgets/controls",
       "_model_module_version": "1.5.0",
       "_model_name": "HTMLModel",
       "_view_count": null,
       "_view_module": "@jupyter-widgets/controls",
       "_view_module_version": "1.5.0",
       "_view_name": "HTMLView",
       "description": "",
       "description_tooltip": null,
       "layout": "IPY_MODEL_8e53b307bd5d4a7b8c922c7cb43beb47",
       "placeholder": "​",
       "style": "IPY_MODEL_6e0c81673ed940e2ae477bbc79f52ebd",
       "value": " 1.71G/1.71G [00:27&lt;00:00, 54.4MB/s]"
      }
     },
     "5038b98e15d546378497ec75fa7bc300": {
      "model_module": "@jupyter-widgets/controls",
      "model_module_version": "1.5.0",
      "model_name": "ProgressStyleModel",
      "state": {
       "_model_module": "@jupyter-widgets/controls",
       "_model_module_version": "1.5.0",
       "_model_name": "ProgressStyleModel",
       "_view_count": null,
       "_view_module": "@jupyter-widgets/base",
       "_view_module_version": "1.2.0",
       "_view_name": "StyleView",
       "bar_color": null,
       "description_width": ""
      }
     },
     "552d112e610449b0a3664266888f1ab5": {
      "model_module": "@jupyter-widgets/base",
      "model_module_version": "1.2.0",
      "model_name": "LayoutModel",
      "state": {
       "_model_module": "@jupyter-widgets/base",
       "_model_module_version": "1.2.0",
       "_model_name": "LayoutModel",
       "_view_count": null,
       "_view_module": "@jupyter-widgets/base",
       "_view_module_version": "1.2.0",
       "_view_name": "LayoutView",
       "align_content": null,
       "align_items": null,
       "align_self": null,
       "border": null,
       "bottom": null,
       "display": null,
       "flex": null,
       "flex_flow": null,
       "grid_area": null,
       "grid_auto_columns": null,
       "grid_auto_flow": null,
       "grid_auto_rows": null,
       "grid_column": null,
       "grid_gap": null,
       "grid_row": null,
       "grid_template_areas": null,
       "grid_template_columns": null,
       "grid_template_rows": null,
       "height": null,
       "justify_content": null,
       "justify_items": null,
       "left": null,
       "margin": null,
       "max_height": null,
       "max_width": null,
       "min_height": null,
       "min_width": null,
       "object_fit": null,
       "object_position": null,
       "order": null,
       "overflow": null,
       "overflow_x": null,
       "overflow_y": null,
       "padding": null,
       "right": null,
       "top": null,
       "visibility": null,
       "width": null
      }
     },
     "5c4272ad61e64617be0d70ce74a6e6c6": {
      "model_module": "@jupyter-widgets/base",
      "model_module_version": "1.2.0",
      "model_name": "LayoutModel",
      "state": {
       "_model_module": "@jupyter-widgets/base",
       "_model_module_version": "1.2.0",
       "_model_name": "LayoutModel",
       "_view_count": null,
       "_view_module": "@jupyter-widgets/base",
       "_view_module_version": "1.2.0",
       "_view_name": "LayoutView",
       "align_content": null,
       "align_items": null,
       "align_self": null,
       "border": null,
       "bottom": null,
       "display": null,
       "flex": null,
       "flex_flow": null,
       "grid_area": null,
       "grid_auto_columns": null,
       "grid_auto_flow": null,
       "grid_auto_rows": null,
       "grid_column": null,
       "grid_gap": null,
       "grid_row": null,
       "grid_template_areas": null,
       "grid_template_columns": null,
       "grid_template_rows": null,
       "height": null,
       "justify_content": null,
       "justify_items": null,
       "left": null,
       "margin": null,
       "max_height": null,
       "max_width": null,
       "min_height": null,
       "min_width": null,
       "object_fit": null,
       "object_position": null,
       "order": null,
       "overflow": null,
       "overflow_x": null,
       "overflow_y": null,
       "padding": null,
       "right": null,
       "top": null,
       "visibility": null,
       "width": null
      }
     },
     "6975366da6344923b95ca99c9bd5d923": {
      "model_module": "@jupyter-widgets/controls",
      "model_module_version": "1.5.0",
      "model_name": "HTMLModel",
      "state": {
       "_dom_classes": [],
       "_model_module": "@jupyter-widgets/controls",
       "_model_module_version": "1.5.0",
       "_model_name": "HTMLModel",
       "_view_count": null,
       "_view_module": "@jupyter-widgets/controls",
       "_view_module_version": "1.5.0",
       "_view_name": "HTMLView",
       "description": "",
       "description_tooltip": null,
       "layout": "IPY_MODEL_f337ce3a458246d7a5f69ef40145241b",
       "placeholder": "​",
       "style": "IPY_MODEL_6caf589e0d4b416db0a9760741bba3ae",
       "value": "Downloading (…)lve/main/config.json: 100%"
      }
     },
     "6caf589e0d4b416db0a9760741bba3ae": {
      "model_module": "@jupyter-widgets/controls",
      "model_module_version": "1.5.0",
      "model_name": "DescriptionStyleModel",
      "state": {
       "_model_module": "@jupyter-widgets/controls",
       "_model_module_version": "1.5.0",
       "_model_name": "DescriptionStyleModel",
       "_view_count": null,
       "_view_module": "@jupyter-widgets/base",
       "_view_module_version": "1.2.0",
       "_view_name": "StyleView",
       "description_width": ""
      }
     },
     "6e0c81673ed940e2ae477bbc79f52ebd": {
      "model_module": "@jupyter-widgets/controls",
      "model_module_version": "1.5.0",
      "model_name": "DescriptionStyleModel",
      "state": {
       "_model_module": "@jupyter-widgets/controls",
       "_model_module_version": "1.5.0",
       "_model_name": "DescriptionStyleModel",
       "_view_count": null,
       "_view_module": "@jupyter-widgets/base",
       "_view_module_version": "1.2.0",
       "_view_name": "StyleView",
       "description_width": ""
      }
     },
     "8281efecbf0e4c149c8755bce9134a9e": {
      "model_module": "@jupyter-widgets/controls",
      "model_module_version": "1.5.0",
      "model_name": "HTMLModel",
      "state": {
       "_dom_classes": [],
       "_model_module": "@jupyter-widgets/controls",
       "_model_module_version": "1.5.0",
       "_model_name": "HTMLModel",
       "_view_count": null,
       "_view_module": "@jupyter-widgets/controls",
       "_view_module_version": "1.5.0",
       "_view_name": "HTMLView",
       "description": "",
       "description_tooltip": null,
       "layout": "IPY_MODEL_d8c0030800144ef581a98ecd44cc5f6b",
       "placeholder": "​",
       "style": "IPY_MODEL_c77fe22750574a2fb4aa8284a296d9c0",
       "value": "Downloading flax_model.msgpack: 100%"
      }
     },
     "848caf388bf74e8e94332dadd7e5dbf4": {
      "model_module": "@jupyter-widgets/controls",
      "model_module_version": "1.5.0",
      "model_name": "HBoxModel",
      "state": {
       "_dom_classes": [],
       "_model_module": "@jupyter-widgets/controls",
       "_model_module_version": "1.5.0",
       "_model_name": "HBoxModel",
       "_view_count": null,
       "_view_module": "@jupyter-widgets/controls",
       "_view_module_version": "1.5.0",
       "_view_name": "HBoxView",
       "box_style": "",
       "children": [
        "IPY_MODEL_6975366da6344923b95ca99c9bd5d923",
        "IPY_MODEL_c9994914100444ffa766bb37fcff9613",
        "IPY_MODEL_05010baef917458cb8c3d592bfd8ca7a"
       ],
       "layout": "IPY_MODEL_e7e7f142166047c587197583c1fe90bd"
      }
     },
     "8e53b307bd5d4a7b8c922c7cb43beb47": {
      "model_module": "@jupyter-widgets/base",
      "model_module_version": "1.2.0",
      "model_name": "LayoutModel",
      "state": {
       "_model_module": "@jupyter-widgets/base",
       "_model_module_version": "1.2.0",
       "_model_name": "LayoutModel",
       "_view_count": null,
       "_view_module": "@jupyter-widgets/base",
       "_view_module_version": "1.2.0",
       "_view_name": "LayoutView",
       "align_content": null,
       "align_items": null,
       "align_self": null,
       "border": null,
       "bottom": null,
       "display": null,
       "flex": null,
       "flex_flow": null,
       "grid_area": null,
       "grid_auto_columns": null,
       "grid_auto_flow": null,
       "grid_auto_rows": null,
       "grid_column": null,
       "grid_gap": null,
       "grid_row": null,
       "grid_template_areas": null,
       "grid_template_columns": null,
       "grid_template_rows": null,
       "height": null,
       "justify_content": null,
       "justify_items": null,
       "left": null,
       "margin": null,
       "max_height": null,
       "max_width": null,
       "min_height": null,
       "min_width": null,
       "object_fit": null,
       "object_position": null,
       "order": null,
       "overflow": null,
       "overflow_x": null,
       "overflow_y": null,
       "padding": null,
       "right": null,
       "top": null,
       "visibility": null,
       "width": null
      }
     },
     "c77fe22750574a2fb4aa8284a296d9c0": {
      "model_module": "@jupyter-widgets/controls",
      "model_module_version": "1.5.0",
      "model_name": "DescriptionStyleModel",
      "state": {
       "_model_module": "@jupyter-widgets/controls",
       "_model_module_version": "1.5.0",
       "_model_name": "DescriptionStyleModel",
       "_view_count": null,
       "_view_module": "@jupyter-widgets/base",
       "_view_module_version": "1.2.0",
       "_view_name": "StyleView",
       "description_width": ""
      }
     },
     "c9994914100444ffa766bb37fcff9613": {
      "model_module": "@jupyter-widgets/controls",
      "model_module_version": "1.5.0",
      "model_name": "FloatProgressModel",
      "state": {
       "_dom_classes": [],
       "_model_module": "@jupyter-widgets/controls",
       "_model_module_version": "1.5.0",
       "_model_name": "FloatProgressModel",
       "_view_count": null,
       "_view_module": "@jupyter-widgets/controls",
       "_view_module_version": "1.5.0",
       "_view_name": "ProgressView",
       "bar_style": "success",
       "description": "",
       "description_tooltip": null,
       "layout": "IPY_MODEL_552d112e610449b0a3664266888f1ab5",
       "max": 4519.0,
       "min": 0.0,
       "orientation": "horizontal",
       "style": "IPY_MODEL_5038b98e15d546378497ec75fa7bc300",
       "value": 4519.0
      }
     },
     "d8c0030800144ef581a98ecd44cc5f6b": {
      "model_module": "@jupyter-widgets/base",
      "model_module_version": "1.2.0",
      "model_name": "LayoutModel",
      "state": {
       "_model_module": "@jupyter-widgets/base",
       "_model_module_version": "1.2.0",
       "_model_name": "LayoutModel",
       "_view_count": null,
       "_view_module": "@jupyter-widgets/base",
       "_view_module_version": "1.2.0",
       "_view_name": "LayoutView",
       "align_content": null,
       "align_items": null,
       "align_self": null,
       "border": null,
       "bottom": null,
       "display": null,
       "flex": null,
       "flex_flow": null,
       "grid_area": null,
       "grid_auto_columns": null,
       "grid_auto_flow": null,
       "grid_auto_rows": null,
       "grid_column": null,
       "grid_gap": null,
       "grid_row": null,
       "grid_template_areas": null,
       "grid_template_columns": null,
       "grid_template_rows": null,
       "height": null,
       "justify_content": null,
       "justify_items": null,
       "left": null,
       "margin": null,
       "max_height": null,
       "max_width": null,
       "min_height": null,
       "min_width": null,
       "object_fit": null,
       "object_position": null,
       "order": null,
       "overflow": null,
       "overflow_x": null,
       "overflow_y": null,
       "padding": null,
       "right": null,
       "top": null,
       "visibility": null,
       "width": null
      }
     },
     "dddc1cd07595405b8d61c1652afc7fec": {
      "model_module": "@jupyter-widgets/controls",
      "model_module_version": "1.5.0",
      "model_name": "DescriptionStyleModel",
      "state": {
       "_model_module": "@jupyter-widgets/controls",
       "_model_module_version": "1.5.0",
       "_model_name": "DescriptionStyleModel",
       "_view_count": null,
       "_view_module": "@jupyter-widgets/base",
       "_view_module_version": "1.2.0",
       "_view_name": "StyleView",
       "description_width": ""
      }
     },
     "e14f78c094674c98b9fdbaaa83e7b050": {
      "model_module": "@jupyter-widgets/base",
      "model_module_version": "1.2.0",
      "model_name": "LayoutModel",
      "state": {
       "_model_module": "@jupyter-widgets/base",
       "_model_module_version": "1.2.0",
       "_model_name": "LayoutModel",
       "_view_count": null,
       "_view_module": "@jupyter-widgets/base",
       "_view_module_version": "1.2.0",
       "_view_name": "LayoutView",
       "align_content": null,
       "align_items": null,
       "align_self": null,
       "border": null,
       "bottom": null,
       "display": null,
       "flex": null,
       "flex_flow": null,
       "grid_area": null,
       "grid_auto_columns": null,
       "grid_auto_flow": null,
       "grid_auto_rows": null,
       "grid_column": null,
       "grid_gap": null,
       "grid_row": null,
       "grid_template_areas": null,
       "grid_template_columns": null,
       "grid_template_rows": null,
       "height": null,
       "justify_content": null,
       "justify_items": null,
       "left": null,
       "margin": null,
       "max_height": null,
       "max_width": null,
       "min_height": null,
       "min_width": null,
       "object_fit": null,
       "object_position": null,
       "order": null,
       "overflow": null,
       "overflow_x": null,
       "overflow_y": null,
       "padding": null,
       "right": null,
       "top": null,
       "visibility": null,
       "width": null
      }
     },
     "e7e7f142166047c587197583c1fe90bd": {
      "model_module": "@jupyter-widgets/base",
      "model_module_version": "1.2.0",
      "model_name": "LayoutModel",
      "state": {
       "_model_module": "@jupyter-widgets/base",
       "_model_module_version": "1.2.0",
       "_model_name": "LayoutModel",
       "_view_count": null,
       "_view_module": "@jupyter-widgets/base",
       "_view_module_version": "1.2.0",
       "_view_name": "LayoutView",
       "align_content": null,
       "align_items": null,
       "align_self": null,
       "border": null,
       "bottom": null,
       "display": null,
       "flex": null,
       "flex_flow": null,
       "grid_area": null,
       "grid_auto_columns": null,
       "grid_auto_flow": null,
       "grid_auto_rows": null,
       "grid_column": null,
       "grid_gap": null,
       "grid_row": null,
       "grid_template_areas": null,
       "grid_template_columns": null,
       "grid_template_rows": null,
       "height": null,
       "justify_content": null,
       "justify_items": null,
       "left": null,
       "margin": null,
       "max_height": null,
       "max_width": null,
       "min_height": null,
       "min_width": null,
       "object_fit": null,
       "object_position": null,
       "order": null,
       "overflow": null,
       "overflow_x": null,
       "overflow_y": null,
       "padding": null,
       "right": null,
       "top": null,
       "visibility": null,
       "width": null
      }
     },
     "ec386e75c1ab4ef3bd52b596ffc27147": {
      "model_module": "@jupyter-widgets/controls",
      "model_module_version": "1.5.0",
      "model_name": "FloatProgressModel",
      "state": {
       "_dom_classes": [],
       "_model_module": "@jupyter-widgets/controls",
       "_model_module_version": "1.5.0",
       "_model_name": "FloatProgressModel",
       "_view_count": null,
       "_view_module": "@jupyter-widgets/controls",
       "_view_module_version": "1.5.0",
       "_view_name": "ProgressView",
       "bar_style": "success",
       "description": "",
       "description_tooltip": null,
       "layout": "IPY_MODEL_24aa9db2aa9b4dc99b14bfbbf56a5228",
       "max": 1710486359.0,
       "min": 0.0,
       "orientation": "horizontal",
       "style": "IPY_MODEL_fa7168bdf14a4429a4feb042bf9cdd01",
       "value": 1710486359.0
      }
     },
     "f337ce3a458246d7a5f69ef40145241b": {
      "model_module": "@jupyter-widgets/base",
      "model_module_version": "1.2.0",
      "model_name": "LayoutModel",
      "state": {
       "_model_module": "@jupyter-widgets/base",
       "_model_module_version": "1.2.0",
       "_model_name": "LayoutModel",
       "_view_count": null,
       "_view_module": "@jupyter-widgets/base",
       "_view_module_version": "1.2.0",
       "_view_name": "LayoutView",
       "align_content": null,
       "align_items": null,
       "align_self": null,
       "border": null,
       "bottom": null,
       "display": null,
       "flex": null,
       "flex_flow": null,
       "grid_area": null,
       "grid_auto_columns": null,
       "grid_auto_flow": null,
       "grid_auto_rows": null,
       "grid_column": null,
       "grid_gap": null,
       "grid_row": null,
       "grid_template_areas": null,
       "grid_template_columns": null,
       "grid_template_rows": null,
       "height": null,
       "justify_content": null,
       "justify_items": null,
       "left": null,
       "margin": null,
       "max_height": null,
       "max_width": null,
       "min_height": null,
       "min_width": null,
       "object_fit": null,
       "object_position": null,
       "order": null,
       "overflow": null,
       "overflow_x": null,
       "overflow_y": null,
       "padding": null,
       "right": null,
       "top": null,
       "visibility": null,
       "width": null
      }
     },
     "f5d873884dab41a9a4b1622afe17388b": {
      "model_module": "@jupyter-widgets/controls",
      "model_module_version": "1.5.0",
      "model_name": "HBoxModel",
      "state": {
       "_dom_classes": [],
       "_model_module": "@jupyter-widgets/controls",
       "_model_module_version": "1.5.0",
       "_model_name": "HBoxModel",
       "_view_count": null,
       "_view_module": "@jupyter-widgets/controls",
       "_view_module_version": "1.5.0",
       "_view_name": "HBoxView",
       "box_style": "",
       "children": [
        "IPY_MODEL_8281efecbf0e4c149c8755bce9134a9e",
        "IPY_MODEL_ec386e75c1ab4ef3bd52b596ffc27147",
        "IPY_MODEL_3ab353e5ee434e549e88f8d86fdde196"
       ],
       "layout": "IPY_MODEL_e14f78c094674c98b9fdbaaa83e7b050"
      }
     },
     "fa7168bdf14a4429a4feb042bf9cdd01": {
      "model_module": "@jupyter-widgets/controls",
      "model_module_version": "1.5.0",
      "model_name": "ProgressStyleModel",
      "state": {
       "_model_module": "@jupyter-widgets/controls",
       "_model_module_version": "1.5.0",
       "_model_name": "ProgressStyleModel",
       "_view_count": null,
       "_view_module": "@jupyter-widgets/base",
       "_view_module_version": "1.2.0",
       "_view_name": "StyleView",
       "bar_color": null,
       "description_width": ""
      }
     }
    },
    "version_major": 2,
    "version_minor": 0
   }
  }
 },
 "nbformat": 4,
 "nbformat_minor": 5
}
