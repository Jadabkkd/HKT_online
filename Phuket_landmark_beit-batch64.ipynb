{
 "cells": [
  {
   "cell_type": "code",
   "execution_count": 1,
   "id": "504510ab",
   "metadata": {
    "_cell_guid": "b1076dfc-b9ad-4769-8c92-a6c4dae69d19",
    "_uuid": "8f2839f25d086af736a60e9eeb907d3b93b6e0e5",
    "execution": {
     "iopub.execute_input": "2023-04-24T00:57:04.257150Z",
     "iopub.status.busy": "2023-04-24T00:57:04.256727Z",
     "iopub.status.idle": "2023-04-24T00:57:14.784696Z",
     "shell.execute_reply": "2023-04-24T00:57:14.783368Z"
    },
    "papermill": {
     "duration": 10.540952,
     "end_time": "2023-04-24T00:57:14.787721",
     "exception": false,
     "start_time": "2023-04-24T00:57:04.246769",
     "status": "completed"
    },
    "tags": []
   },
   "outputs": [
    {
     "name": "stdout",
     "output_type": "stream",
     "text": [
      "Collecting augmax\r\n",
      "  Downloading augmax-0.3.1-py3-none-any.whl (21 kB)\r\n",
      "Requirement already satisfied: jax>=0.1 in /opt/conda/lib/python3.7/site-packages (from augmax) (0.3.25)\r\n",
      "Collecting einops>=0.3\r\n",
      "  Downloading einops-0.6.1-py3-none-any.whl (42 kB)\r\n",
      "\u001b[2K     \u001b[90m━━━━━━━━━━━━━━━━━━━━━━━━━━━━━━━━━━━━━━━━\u001b[0m \u001b[32m42.2/42.2 kB\u001b[0m \u001b[31m3.2 MB/s\u001b[0m eta \u001b[36m0:00:00\u001b[0m\r\n",
      "\u001b[?25hRequirement already satisfied: numpy>=1.20 in /opt/conda/lib/python3.7/site-packages (from jax>=0.1->augmax) (1.21.6)\r\n",
      "Requirement already satisfied: scipy>=1.5 in /opt/conda/lib/python3.7/site-packages (from jax>=0.1->augmax) (1.7.3)\r\n",
      "Requirement already satisfied: opt-einsum in /opt/conda/lib/python3.7/site-packages (from jax>=0.1->augmax) (3.3.0)\r\n",
      "Requirement already satisfied: typing-extensions in /opt/conda/lib/python3.7/site-packages (from jax>=0.1->augmax) (4.4.0)\r\n",
      "Installing collected packages: einops, augmax\r\n",
      "Successfully installed augmax-0.3.1 einops-0.6.1\r\n",
      "\u001b[33mWARNING: Running pip as the 'root' user can result in broken permissions and conflicting behaviour with the system package manager. It is recommended to use a virtual environment instead: https://pip.pypa.io/warnings/venv\u001b[0m\u001b[33m\r\n",
      "\u001b[0m"
     ]
    }
   ],
   "source": [
    "!pip install augmax"
   ]
  },
  {
   "cell_type": "code",
   "execution_count": 2,
   "id": "9a48ad8d",
   "metadata": {
    "execution": {
     "iopub.execute_input": "2023-04-24T00:57:14.807458Z",
     "iopub.status.busy": "2023-04-24T00:57:14.807078Z",
     "iopub.status.idle": "2023-04-24T00:57:24.984607Z",
     "shell.execute_reply": "2023-04-24T00:57:24.983307Z"
    },
    "papermill": {
     "duration": 10.190166,
     "end_time": "2023-04-24T00:57:24.987424",
     "exception": false,
     "start_time": "2023-04-24T00:57:14.797258",
     "status": "completed"
    },
    "tags": []
   },
   "outputs": [
    {
     "name": "stdout",
     "output_type": "stream",
     "text": [
      "Requirement already satisfied: orbax in /opt/conda/lib/python3.7/site-packages (0.1.0)\r\n",
      "Requirement already satisfied: cached_property in /opt/conda/lib/python3.7/site-packages (from orbax) (1.5.2)\r\n",
      "Requirement already satisfied: numpy in /opt/conda/lib/python3.7/site-packages (from orbax) (1.21.6)\r\n",
      "Requirement already satisfied: importlib_resources in /opt/conda/lib/python3.7/site-packages (from orbax) (5.10.2)\r\n",
      "Requirement already satisfied: tensorstore>=0.1.20 in /opt/conda/lib/python3.7/site-packages (from orbax) (0.1.28)\r\n",
      "Requirement already satisfied: pyyaml in /opt/conda/lib/python3.7/site-packages (from orbax) (6.0)\r\n",
      "Requirement already satisfied: pytest in /opt/conda/lib/python3.7/site-packages (from orbax) (7.2.2)\r\n",
      "Requirement already satisfied: absl-py in /opt/conda/lib/python3.7/site-packages (from orbax) (1.4.0)\r\n",
      "Requirement already satisfied: jax in /opt/conda/lib/python3.7/site-packages (from orbax) (0.3.25)\r\n",
      "Requirement already satisfied: etils in /opt/conda/lib/python3.7/site-packages (from orbax) (0.9.0)\r\n",
      "Requirement already satisfied: jaxlib in /opt/conda/lib/python3.7/site-packages (from orbax) (0.3.25+cuda11.cudnn805)\r\n",
      "Requirement already satisfied: flax in /opt/conda/lib/python3.7/site-packages (from orbax) (0.6.4)\r\n",
      "Requirement already satisfied: msgpack in /opt/conda/lib/python3.7/site-packages (from flax->orbax) (1.0.4)\r\n",
      "Requirement already satisfied: rich>=11.1 in /opt/conda/lib/python3.7/site-packages (from flax->orbax) (13.2.0)\r\n",
      "Requirement already satisfied: typing-extensions>=4.1.1 in /opt/conda/lib/python3.7/site-packages (from flax->orbax) (4.4.0)\r\n",
      "Requirement already satisfied: matplotlib in /opt/conda/lib/python3.7/site-packages (from flax->orbax) (3.5.3)\r\n",
      "Requirement already satisfied: optax in /opt/conda/lib/python3.7/site-packages (from flax->orbax) (0.1.4)\r\n",
      "Requirement already satisfied: opt-einsum in /opt/conda/lib/python3.7/site-packages (from jax->orbax) (3.3.0)\r\n",
      "Requirement already satisfied: scipy>=1.5 in /opt/conda/lib/python3.7/site-packages (from jax->orbax) (1.7.3)\r\n",
      "Requirement already satisfied: zipp>=3.1.0 in /opt/conda/lib/python3.7/site-packages (from importlib_resources->orbax) (3.11.0)\r\n",
      "Requirement already satisfied: iniconfig in /opt/conda/lib/python3.7/site-packages (from pytest->orbax) (2.0.0)\r\n",
      "Requirement already satisfied: exceptiongroup>=1.0.0rc8 in /opt/conda/lib/python3.7/site-packages (from pytest->orbax) (1.1.1)\r\n",
      "Requirement already satisfied: pluggy<2.0,>=0.12 in /opt/conda/lib/python3.7/site-packages (from pytest->orbax) (1.0.0)\r\n",
      "Requirement already satisfied: packaging in /opt/conda/lib/python3.7/site-packages (from pytest->orbax) (23.0)\r\n",
      "Requirement already satisfied: tomli>=1.0.0 in /opt/conda/lib/python3.7/site-packages (from pytest->orbax) (2.0.1)\r\n",
      "Requirement already satisfied: importlib-metadata>=0.12 in /opt/conda/lib/python3.7/site-packages (from pytest->orbax) (4.11.4)\r\n",
      "Requirement already satisfied: attrs>=19.2.0 in /opt/conda/lib/python3.7/site-packages (from pytest->orbax) (22.2.0)\r\n",
      "Requirement already satisfied: markdown-it-py<3.0.0,>=2.1.0 in /opt/conda/lib/python3.7/site-packages (from rich>=11.1->flax->orbax) (2.1.0)\r\n",
      "Requirement already satisfied: pygments<3.0.0,>=2.6.0 in /opt/conda/lib/python3.7/site-packages (from rich>=11.1->flax->orbax) (2.14.0)\r\n",
      "Requirement already satisfied: fonttools>=4.22.0 in /opt/conda/lib/python3.7/site-packages (from matplotlib->flax->orbax) (4.38.0)\r\n",
      "Requirement already satisfied: cycler>=0.10 in /opt/conda/lib/python3.7/site-packages (from matplotlib->flax->orbax) (0.11.0)\r\n",
      "Requirement already satisfied: pillow>=6.2.0 in /opt/conda/lib/python3.7/site-packages (from matplotlib->flax->orbax) (9.4.0)\r\n",
      "Requirement already satisfied: pyparsing>=2.2.1 in /opt/conda/lib/python3.7/site-packages (from matplotlib->flax->orbax) (3.0.9)\r\n",
      "Requirement already satisfied: kiwisolver>=1.0.1 in /opt/conda/lib/python3.7/site-packages (from matplotlib->flax->orbax) (1.4.4)\r\n",
      "Requirement already satisfied: python-dateutil>=2.7 in /opt/conda/lib/python3.7/site-packages (from matplotlib->flax->orbax) (2.8.2)\r\n",
      "Requirement already satisfied: chex>=0.1.5 in /opt/conda/lib/python3.7/site-packages (from optax->flax->orbax) (0.1.5)\r\n",
      "Requirement already satisfied: dm-tree>=0.1.5 in /opt/conda/lib/python3.7/site-packages (from chex>=0.1.5->optax->flax->orbax) (0.1.8)\r\n",
      "Requirement already satisfied: toolz>=0.9.0 in /opt/conda/lib/python3.7/site-packages (from chex>=0.1.5->optax->flax->orbax) (0.11.2)\r\n",
      "Requirement already satisfied: mdurl~=0.1 in /opt/conda/lib/python3.7/site-packages (from markdown-it-py<3.0.0,>=2.1.0->rich>=11.1->flax->orbax) (0.1.2)\r\n",
      "Requirement already satisfied: six>=1.5 in /opt/conda/lib/python3.7/site-packages (from python-dateutil>=2.7->matplotlib->flax->orbax) (1.16.0)\r\n",
      "\u001b[33mWARNING: Running pip as the 'root' user can result in broken permissions and conflicting behaviour with the system package manager. It is recommended to use a virtual environment instead: https://pip.pypa.io/warnings/venv\u001b[0m\u001b[33m\r\n",
      "\u001b[0m"
     ]
    }
   ],
   "source": [
    "! pip install orbax"
   ]
  },
  {
   "cell_type": "code",
   "execution_count": 3,
   "id": "b170670b",
   "metadata": {
    "execution": {
     "iopub.execute_input": "2023-04-24T00:57:25.007994Z",
     "iopub.status.busy": "2023-04-24T00:57:25.006849Z",
     "iopub.status.idle": "2023-04-24T00:57:34.518686Z",
     "shell.execute_reply": "2023-04-24T00:57:34.517513Z"
    },
    "papermill": {
     "duration": 9.524626,
     "end_time": "2023-04-24T00:57:34.521263",
     "exception": false,
     "start_time": "2023-04-24T00:57:24.996637",
     "status": "completed"
    },
    "tags": []
   },
   "outputs": [
    {
     "name": "stdout",
     "output_type": "stream",
     "text": [
      "Requirement already satisfied: nest-asyncio in /opt/conda/lib/python3.7/site-packages (1.5.6)\r\n",
      "\u001b[33mWARNING: Running pip as the 'root' user can result in broken permissions and conflicting behaviour with the system package manager. It is recommended to use a virtual environment instead: https://pip.pypa.io/warnings/venv\u001b[0m\u001b[33m\r\n",
      "\u001b[0m"
     ]
    }
   ],
   "source": [
    "!pip install nest-asyncio"
   ]
  },
  {
   "cell_type": "code",
   "execution_count": 4,
   "id": "c13ea614",
   "metadata": {
    "execution": {
     "iopub.execute_input": "2023-04-24T00:57:34.541509Z",
     "iopub.status.busy": "2023-04-24T00:57:34.540526Z",
     "iopub.status.idle": "2023-04-24T00:57:34.550575Z",
     "shell.execute_reply": "2023-04-24T00:57:34.549598Z"
    },
    "papermill": {
     "duration": 0.021643,
     "end_time": "2023-04-24T00:57:34.552835",
     "exception": false,
     "start_time": "2023-04-24T00:57:34.531192",
     "status": "completed"
    },
    "tags": []
   },
   "outputs": [],
   "source": [
    "import nest_asyncio\n",
    "nest_asyncio.apply()"
   ]
  },
  {
   "cell_type": "code",
   "execution_count": 5,
   "id": "ba30831b",
   "metadata": {
    "execution": {
     "iopub.execute_input": "2023-04-24T00:57:34.571368Z",
     "iopub.status.busy": "2023-04-24T00:57:34.570688Z",
     "iopub.status.idle": "2023-04-24T00:57:34.575663Z",
     "shell.execute_reply": "2023-04-24T00:57:34.574773Z"
    },
    "papermill": {
     "duration": 0.016674,
     "end_time": "2023-04-24T00:57:34.577735",
     "exception": false,
     "start_time": "2023-04-24T00:57:34.561061",
     "status": "completed"
    },
    "tags": []
   },
   "outputs": [],
   "source": [
    "import os\n",
    "os.environ[\"XLA_FLAGS\"] = '--xla_force_host_platform_device_count=8'"
   ]
  },
  {
   "cell_type": "code",
   "execution_count": 6,
   "id": "70e8c30f",
   "metadata": {
    "execution": {
     "iopub.execute_input": "2023-04-24T00:57:34.595483Z",
     "iopub.status.busy": "2023-04-24T00:57:34.594658Z",
     "iopub.status.idle": "2023-04-24T00:57:39.934350Z",
     "shell.execute_reply": "2023-04-24T00:57:39.933221Z"
    },
    "papermill": {
     "duration": 5.351468,
     "end_time": "2023-04-24T00:57:39.937178",
     "exception": false,
     "start_time": "2023-04-24T00:57:34.585710",
     "status": "completed"
    },
    "tags": []
   },
   "outputs": [],
   "source": [
    "## jax\n",
    "import jax\n",
    "import jax.numpy as jnp\n",
    "from jax import grad, jit, vmap, pmap\n",
    "from jax.experimental.pjit import pjit\n",
    "from jax import lax\n",
    "from jax import random\n",
    "\n",
    "from jax import make_jaxpr\n",
    "from jax import device_put\n",
    "\n",
    "## Flax\n",
    "from flax.core import freeze, unfreeze\n",
    "from flax import linen as nn\n",
    "from flax.training import train_state\n",
    "from flax import traverse_util\n",
    "\n",
    "from orbax.checkpoint import*\n",
    "\n",
    "# Optimizer for flax\n",
    "import optax\n",
    "\n",
    "import augmax as AUX\n",
    "from PIL import Image\n",
    "import cv2\n",
    "import numpy as np\n",
    "import pandas as pd\n",
    "from sklearn import datasets\n",
    "import matplotlib.pyplot as plt\n",
    "\n",
    "from sklearn.model_selection import KFold, StratifiedKFold\n",
    "\n",
    "from transformers import FlaxViTModel,FlaxCLIPModel,FlaxBeitModel\n",
    "\n",
    "import os\n",
    "import gc\n",
    "from functools import partial\n",
    "from tqdm import tqdm\n",
    "import seaborn as sns"
   ]
  },
  {
   "cell_type": "markdown",
   "id": "c78da616",
   "metadata": {
    "papermill": {
     "duration": 0.008494,
     "end_time": "2023-04-24T00:57:39.954668",
     "exception": false,
     "start_time": "2023-04-24T00:57:39.946174",
     "status": "completed"
    },
    "tags": []
   },
   "source": [
    "# Import Data"
   ]
  },
  {
   "cell_type": "code",
   "execution_count": 7,
   "id": "600b5344",
   "metadata": {
    "execution": {
     "iopub.execute_input": "2023-04-24T00:57:39.972664Z",
     "iopub.status.busy": "2023-04-24T00:57:39.972115Z",
     "iopub.status.idle": "2023-04-24T00:57:40.001087Z",
     "shell.execute_reply": "2023-04-24T00:57:40.000158Z"
    },
    "papermill": {
     "duration": 0.040327,
     "end_time": "2023-04-24T00:57:40.003208",
     "exception": false,
     "start_time": "2023-04-24T00:57:39.962881",
     "status": "completed"
    },
    "tags": []
   },
   "outputs": [],
   "source": [
    "train_df_orig = pd.read_csv('../input/hackathon-online-phuket-landmark-recognition/train.csv')\n",
    "test_df_orig = pd.read_csv('../input/hackathon-online-phuket-landmark-recognition/test.csv')\n",
    "train_df = train_df_orig.rename( columns = {'id':'filename'} )\n",
    "test_df_submit = test_df_orig.rename( columns = {'id':'filename'} )"
   ]
  },
  {
   "cell_type": "code",
   "execution_count": 8,
   "id": "d4bcf956",
   "metadata": {
    "execution": {
     "iopub.execute_input": "2023-04-24T00:57:40.021767Z",
     "iopub.status.busy": "2023-04-24T00:57:40.020831Z",
     "iopub.status.idle": "2023-04-24T00:57:40.025821Z",
     "shell.execute_reply": "2023-04-24T00:57:40.024845Z"
    },
    "papermill": {
     "duration": 0.016222,
     "end_time": "2023-04-24T00:57:40.028048",
     "exception": false,
     "start_time": "2023-04-24T00:57:40.011826",
     "status": "completed"
    },
    "tags": []
   },
   "outputs": [],
   "source": [
    "m_train_path =  '../input/hackathon-online-phuket-landmark-recognition/images/images/train/'\n",
    "m_test_path = '../input/hackathon-online-phuket-landmark-recognition/images/images/test/'"
   ]
  },
  {
   "cell_type": "code",
   "execution_count": 9,
   "id": "e88568fc",
   "metadata": {
    "execution": {
     "iopub.execute_input": "2023-04-24T00:57:40.045709Z",
     "iopub.status.busy": "2023-04-24T00:57:40.044975Z",
     "iopub.status.idle": "2023-04-24T00:57:40.055933Z",
     "shell.execute_reply": "2023-04-24T00:57:40.054976Z"
    },
    "papermill": {
     "duration": 0.022077,
     "end_time": "2023-04-24T00:57:40.058053",
     "exception": false,
     "start_time": "2023-04-24T00:57:40.035976",
     "status": "completed"
    },
    "tags": []
   },
   "outputs": [],
   "source": [
    "train_df['filepath'] = [ m_train_path + x for x in train_df['filename'] ]\n",
    "test_df_submit['filepath'] = [ m_test_path + x for x in test_df_submit['filename'] ]"
   ]
  },
  {
   "cell_type": "code",
   "execution_count": 10,
   "id": "1e307b87",
   "metadata": {
    "execution": {
     "iopub.execute_input": "2023-04-24T00:57:40.075501Z",
     "iopub.status.busy": "2023-04-24T00:57:40.075230Z",
     "iopub.status.idle": "2023-04-24T00:57:40.093907Z",
     "shell.execute_reply": "2023-04-24T00:57:40.092942Z"
    },
    "papermill": {
     "duration": 0.029927,
     "end_time": "2023-04-24T00:57:40.096123",
     "exception": false,
     "start_time": "2023-04-24T00:57:40.066196",
     "status": "completed"
    },
    "tags": []
   },
   "outputs": [
    {
     "data": {
      "text/html": [
       "<div>\n",
       "<style scoped>\n",
       "    .dataframe tbody tr th:only-of-type {\n",
       "        vertical-align: middle;\n",
       "    }\n",
       "\n",
       "    .dataframe tbody tr th {\n",
       "        vertical-align: top;\n",
       "    }\n",
       "\n",
       "    .dataframe thead th {\n",
       "        text-align: right;\n",
       "    }\n",
       "</style>\n",
       "<table border=\"1\" class=\"dataframe\">\n",
       "  <thead>\n",
       "    <tr style=\"text-align: right;\">\n",
       "      <th></th>\n",
       "      <th>filename</th>\n",
       "      <th>label</th>\n",
       "      <th>filepath</th>\n",
       "    </tr>\n",
       "  </thead>\n",
       "  <tbody>\n",
       "    <tr>\n",
       "      <th>0</th>\n",
       "      <td>dc8ca8843cc05c937ae4086da5ad49f1.jpg</td>\n",
       "      <td>7</td>\n",
       "      <td>../input/hackathon-online-phuket-landmark-reco...</td>\n",
       "    </tr>\n",
       "    <tr>\n",
       "      <th>1</th>\n",
       "      <td>abf428c748961ce38012c04fb4f67a0a.jpg</td>\n",
       "      <td>10</td>\n",
       "      <td>../input/hackathon-online-phuket-landmark-reco...</td>\n",
       "    </tr>\n",
       "    <tr>\n",
       "      <th>2</th>\n",
       "      <td>7bef6daf30000b2bb9e57af7bc87b780.jpg</td>\n",
       "      <td>1</td>\n",
       "      <td>../input/hackathon-online-phuket-landmark-reco...</td>\n",
       "    </tr>\n",
       "    <tr>\n",
       "      <th>3</th>\n",
       "      <td>db6f12a84dedc23e3d55320a9149d69a.jpg</td>\n",
       "      <td>7</td>\n",
       "      <td>../input/hackathon-online-phuket-landmark-reco...</td>\n",
       "    </tr>\n",
       "    <tr>\n",
       "      <th>4</th>\n",
       "      <td>8d17fcf554881b42a070162c19f73f3a.jpg</td>\n",
       "      <td>8</td>\n",
       "      <td>../input/hackathon-online-phuket-landmark-reco...</td>\n",
       "    </tr>\n",
       "    <tr>\n",
       "      <th>...</th>\n",
       "      <td>...</td>\n",
       "      <td>...</td>\n",
       "      <td>...</td>\n",
       "    </tr>\n",
       "    <tr>\n",
       "      <th>2720</th>\n",
       "      <td>50db1fe1991abf6aaf36f6f4f1b66cd4.jpg</td>\n",
       "      <td>3</td>\n",
       "      <td>../input/hackathon-online-phuket-landmark-reco...</td>\n",
       "    </tr>\n",
       "    <tr>\n",
       "      <th>2721</th>\n",
       "      <td>c0cdb5a4aa8060e763bcaae3cd7cc702.jpg</td>\n",
       "      <td>14</td>\n",
       "      <td>../input/hackathon-online-phuket-landmark-reco...</td>\n",
       "    </tr>\n",
       "    <tr>\n",
       "      <th>2722</th>\n",
       "      <td>c953c76faa7580b3b00be8856f6e9d98.jpg</td>\n",
       "      <td>8</td>\n",
       "      <td>../input/hackathon-online-phuket-landmark-reco...</td>\n",
       "    </tr>\n",
       "    <tr>\n",
       "      <th>2723</th>\n",
       "      <td>174cae6121652e3527460e8f52672875.jpg</td>\n",
       "      <td>4</td>\n",
       "      <td>../input/hackathon-online-phuket-landmark-reco...</td>\n",
       "    </tr>\n",
       "    <tr>\n",
       "      <th>2724</th>\n",
       "      <td>86d093e63af91050ede4a16c2965844d.jpg</td>\n",
       "      <td>13</td>\n",
       "      <td>../input/hackathon-online-phuket-landmark-reco...</td>\n",
       "    </tr>\n",
       "  </tbody>\n",
       "</table>\n",
       "<p>2725 rows × 3 columns</p>\n",
       "</div>"
      ],
      "text/plain": [
       "                                  filename  label  \\\n",
       "0     dc8ca8843cc05c937ae4086da5ad49f1.jpg      7   \n",
       "1     abf428c748961ce38012c04fb4f67a0a.jpg     10   \n",
       "2     7bef6daf30000b2bb9e57af7bc87b780.jpg      1   \n",
       "3     db6f12a84dedc23e3d55320a9149d69a.jpg      7   \n",
       "4     8d17fcf554881b42a070162c19f73f3a.jpg      8   \n",
       "...                                    ...    ...   \n",
       "2720  50db1fe1991abf6aaf36f6f4f1b66cd4.jpg      3   \n",
       "2721  c0cdb5a4aa8060e763bcaae3cd7cc702.jpg     14   \n",
       "2722  c953c76faa7580b3b00be8856f6e9d98.jpg      8   \n",
       "2723  174cae6121652e3527460e8f52672875.jpg      4   \n",
       "2724  86d093e63af91050ede4a16c2965844d.jpg     13   \n",
       "\n",
       "                                               filepath  \n",
       "0     ../input/hackathon-online-phuket-landmark-reco...  \n",
       "1     ../input/hackathon-online-phuket-landmark-reco...  \n",
       "2     ../input/hackathon-online-phuket-landmark-reco...  \n",
       "3     ../input/hackathon-online-phuket-landmark-reco...  \n",
       "4     ../input/hackathon-online-phuket-landmark-reco...  \n",
       "...                                                 ...  \n",
       "2720  ../input/hackathon-online-phuket-landmark-reco...  \n",
       "2721  ../input/hackathon-online-phuket-landmark-reco...  \n",
       "2722  ../input/hackathon-online-phuket-landmark-reco...  \n",
       "2723  ../input/hackathon-online-phuket-landmark-reco...  \n",
       "2724  ../input/hackathon-online-phuket-landmark-reco...  \n",
       "\n",
       "[2725 rows x 3 columns]"
      ]
     },
     "execution_count": 10,
     "metadata": {},
     "output_type": "execute_result"
    }
   ],
   "source": [
    "train_df"
   ]
  },
  {
   "cell_type": "markdown",
   "id": "3a790786",
   "metadata": {
    "papermill": {
     "duration": 0.008059,
     "end_time": "2023-04-24T00:57:40.112966",
     "exception": false,
     "start_time": "2023-04-24T00:57:40.104907",
     "status": "completed"
    },
    "tags": []
   },
   "source": [
    "# EDA"
   ]
  },
  {
   "cell_type": "code",
   "execution_count": 11,
   "id": "f297d97a",
   "metadata": {
    "execution": {
     "iopub.execute_input": "2023-04-24T00:57:40.131703Z",
     "iopub.status.busy": "2023-04-24T00:57:40.130898Z",
     "iopub.status.idle": "2023-04-24T00:57:40.135908Z",
     "shell.execute_reply": "2023-04-24T00:57:40.134955Z"
    },
    "papermill": {
     "duration": 0.016888,
     "end_time": "2023-04-24T00:57:40.138073",
     "exception": false,
     "start_time": "2023-04-24T00:57:40.121185",
     "status": "completed"
    },
    "tags": []
   },
   "outputs": [],
   "source": [
    "# rand_arr = np.random.randint(0,135,5)\n",
    "# vrows = 5\n",
    "# fig, axes = plt.subplots(15,vrows,figsize = (12,12))\n",
    "# for i in tqdm(range(15)):\n",
    "#     for j,d in enumerate(rand_arr):\n",
    "#         img_path = train_df[train_df.label == i].iloc[d,0]\n",
    "#         img_path = m_train_path + img_path\n",
    "#         img_arr = cv2.imread(img_path)\n",
    "#         img_arr = cv2.cvtColor(img_arr, cv2.COLOR_BGR2RGB)\n",
    "        \n",
    "#         ax = axes[i,j]\n",
    "#         ax.imshow(img_arr)\n",
    "#         ax.set_title(f'c : {i}')\n",
    "    "
   ]
  },
  {
   "cell_type": "code",
   "execution_count": 12,
   "id": "241afea0",
   "metadata": {
    "execution": {
     "iopub.execute_input": "2023-04-24T00:57:40.156042Z",
     "iopub.status.busy": "2023-04-24T00:57:40.155762Z",
     "iopub.status.idle": "2023-04-24T00:57:40.159783Z",
     "shell.execute_reply": "2023-04-24T00:57:40.158797Z"
    },
    "papermill": {
     "duration": 0.015344,
     "end_time": "2023-04-24T00:57:40.161877",
     "exception": false,
     "start_time": "2023-04-24T00:57:40.146533",
     "status": "completed"
    },
    "tags": []
   },
   "outputs": [],
   "source": [
    "# sns.countplot(x = train_df['label'])"
   ]
  },
  {
   "cell_type": "markdown",
   "id": "41949582",
   "metadata": {
    "execution": {
     "iopub.execute_input": "2023-04-22T01:42:37.931777Z",
     "iopub.status.busy": "2023-04-22T01:42:37.931455Z",
     "iopub.status.idle": "2023-04-22T01:42:37.948999Z",
     "shell.execute_reply": "2023-04-22T01:42:37.948107Z",
     "shell.execute_reply.started": "2023-04-22T01:42:37.931745Z"
    },
    "papermill": {
     "duration": 0.007969,
     "end_time": "2023-04-24T00:57:40.178278",
     "exception": false,
     "start_time": "2023-04-24T00:57:40.170309",
     "status": "completed"
    },
    "tags": []
   },
   "source": [
    "# Upsampling"
   ]
  },
  {
   "cell_type": "code",
   "execution_count": 13,
   "id": "abd837f2",
   "metadata": {
    "execution": {
     "iopub.execute_input": "2023-04-24T00:57:40.196002Z",
     "iopub.status.busy": "2023-04-24T00:57:40.195715Z",
     "iopub.status.idle": "2023-04-24T00:57:40.199946Z",
     "shell.execute_reply": "2023-04-24T00:57:40.198951Z"
    },
    "papermill": {
     "duration": 0.015198,
     "end_time": "2023-04-24T00:57:40.201979",
     "exception": false,
     "start_time": "2023-04-24T00:57:40.186781",
     "status": "completed"
    },
    "tags": []
   },
   "outputs": [],
   "source": [
    "# up_df = []\n",
    "# l_max = train_df['label'].value_counts().max()\n",
    "# np.random.seed(1995)\n",
    "# for c in range(train_df['label'].nunique()):\n",
    "#     df = train_df[train_df['label'] == c].reset_index(drop = True)\n",
    "#     up_df.append( \n",
    "#         df.loc[np.random.randint(0,len(df), l_max - len(df))]\n",
    "#     )\n",
    "\n",
    "# print(l_max)"
   ]
  },
  {
   "cell_type": "code",
   "execution_count": 14,
   "id": "f9791e20",
   "metadata": {
    "execution": {
     "iopub.execute_input": "2023-04-24T00:57:40.224595Z",
     "iopub.status.busy": "2023-04-24T00:57:40.224165Z",
     "iopub.status.idle": "2023-04-24T00:57:40.230129Z",
     "shell.execute_reply": "2023-04-24T00:57:40.228977Z"
    },
    "papermill": {
     "duration": 0.022399,
     "end_time": "2023-04-24T00:57:40.232813",
     "exception": false,
     "start_time": "2023-04-24T00:57:40.210414",
     "status": "completed"
    },
    "tags": []
   },
   "outputs": [],
   "source": [
    "# up_df.append(train_df)\n",
    "# upsamp_train_df = pd.concat(up_df,ignore_index = True)"
   ]
  },
  {
   "cell_type": "code",
   "execution_count": 15,
   "id": "5204033d",
   "metadata": {
    "execution": {
     "iopub.execute_input": "2023-04-24T00:57:40.254064Z",
     "iopub.status.busy": "2023-04-24T00:57:40.253789Z",
     "iopub.status.idle": "2023-04-24T00:57:40.257690Z",
     "shell.execute_reply": "2023-04-24T00:57:40.256708Z"
    },
    "papermill": {
     "duration": 0.015121,
     "end_time": "2023-04-24T00:57:40.259899",
     "exception": false,
     "start_time": "2023-04-24T00:57:40.244778",
     "status": "completed"
    },
    "tags": []
   },
   "outputs": [],
   "source": [
    "# sns.countplot(x = upsamp_train_df['label'])"
   ]
  },
  {
   "cell_type": "code",
   "execution_count": 16,
   "id": "994afd20",
   "metadata": {
    "execution": {
     "iopub.execute_input": "2023-04-24T00:57:40.278308Z",
     "iopub.status.busy": "2023-04-24T00:57:40.277804Z",
     "iopub.status.idle": "2023-04-24T00:57:40.281665Z",
     "shell.execute_reply": "2023-04-24T00:57:40.280660Z"
    },
    "papermill": {
     "duration": 0.015602,
     "end_time": "2023-04-24T00:57:40.283955",
     "exception": false,
     "start_time": "2023-04-24T00:57:40.268353",
     "status": "completed"
    },
    "tags": []
   },
   "outputs": [],
   "source": [
    "# upsamp_train_df = upsamp_train_df.sample(frac = 1, random_state = 1995).reset_index(drop = True)"
   ]
  },
  {
   "cell_type": "code",
   "execution_count": 17,
   "id": "c7099f2a",
   "metadata": {
    "execution": {
     "iopub.execute_input": "2023-04-24T00:57:40.302890Z",
     "iopub.status.busy": "2023-04-24T00:57:40.302072Z",
     "iopub.status.idle": "2023-04-24T00:57:40.311348Z",
     "shell.execute_reply": "2023-04-24T00:57:40.310478Z"
    },
    "papermill": {
     "duration": 0.020656,
     "end_time": "2023-04-24T00:57:40.313421",
     "exception": false,
     "start_time": "2023-04-24T00:57:40.292765",
     "status": "completed"
    },
    "tags": []
   },
   "outputs": [],
   "source": [
    "upsamp_train_df = train_df.sample(frac = 1, random_state = 1995).reset_index(drop = True)"
   ]
  },
  {
   "cell_type": "code",
   "execution_count": 18,
   "id": "d3690975",
   "metadata": {
    "execution": {
     "iopub.execute_input": "2023-04-24T00:57:40.331400Z",
     "iopub.status.busy": "2023-04-24T00:57:40.330868Z",
     "iopub.status.idle": "2023-04-24T00:57:40.334782Z",
     "shell.execute_reply": "2023-04-24T00:57:40.333732Z"
    },
    "papermill": {
     "duration": 0.015184,
     "end_time": "2023-04-24T00:57:40.336868",
     "exception": false,
     "start_time": "2023-04-24T00:57:40.321684",
     "status": "completed"
    },
    "tags": []
   },
   "outputs": [],
   "source": [
    "# upsamp_train_df"
   ]
  },
  {
   "cell_type": "markdown",
   "id": "6bf36896",
   "metadata": {
    "papermill": {
     "duration": 0.007983,
     "end_time": "2023-04-24T00:57:40.353249",
     "exception": false,
     "start_time": "2023-04-24T00:57:40.345266",
     "status": "completed"
    },
    "tags": []
   },
   "source": [
    "# Preprocessing"
   ]
  },
  {
   "cell_type": "code",
   "execution_count": 19,
   "id": "e87d9a25",
   "metadata": {
    "execution": {
     "iopub.execute_input": "2023-04-24T00:57:40.371557Z",
     "iopub.status.busy": "2023-04-24T00:57:40.371293Z",
     "iopub.status.idle": "2023-04-24T00:57:40.376499Z",
     "shell.execute_reply": "2023-04-24T00:57:40.375476Z"
    },
    "papermill": {
     "duration": 0.016711,
     "end_time": "2023-04-24T00:57:40.378506",
     "exception": false,
     "start_time": "2023-04-24T00:57:40.361795",
     "status": "completed"
    },
    "tags": []
   },
   "outputs": [],
   "source": [
    "transform = AUX.Chain(\n",
    "    AUX.HorizontalFlip(p = .2),\n",
    "    AUX.VerticalFlip(p = .2),\n",
    "    AUX.Rotate(p = .2),\n",
    "    AUX.RandomContrast(range = (-.5,.5),p = .2),\n",
    "    AUX.ByteToFloat(),\n",
    "#     AUX.Normalize(),\n",
    ")"
   ]
  },
  {
   "cell_type": "code",
   "execution_count": 20,
   "id": "11c5f663",
   "metadata": {
    "execution": {
     "iopub.execute_input": "2023-04-24T00:57:40.396751Z",
     "iopub.status.busy": "2023-04-24T00:57:40.396499Z",
     "iopub.status.idle": "2023-04-24T00:57:40.407561Z",
     "shell.execute_reply": "2023-04-24T00:57:40.406591Z"
    },
    "papermill": {
     "duration": 0.022675,
     "end_time": "2023-04-24T00:57:40.409715",
     "exception": false,
     "start_time": "2023-04-24T00:57:40.387040",
     "status": "completed"
    },
    "tags": []
   },
   "outputs": [],
   "source": [
    "class Dataload:\n",
    "    def __init__(self,df,classes = None,img_size = 224,batch_size = 32,transform = None):\n",
    "        self.classes = classes\n",
    "        self.df = df\n",
    "        self.batch_size = batch_size\n",
    "        self.transform = transform\n",
    "        self.rng = random.PRNGKey(1995)\n",
    "        self.datasize = len(self.df)\n",
    "        self.batch_idx = list(range(0,self.datasize,self.batch_size))\n",
    "        self.img_size = img_size\n",
    "        \n",
    "        ### modify\n",
    "        \n",
    "    def get_batch(self,idx,train = True):\n",
    "#         data_batch = np.zeros((self.batch_size,self.img_size,self.img_size,3))\n",
    "        data_batch = []\n",
    "        label_batch = list()\n",
    "        sliced_df = self.df[ idx:idx + self.batch_size ]\n",
    "        for i,data in enumerate(sliced_df.iterrows()):\n",
    "            img = cv2.imread(data[1]['filepath'],cv2.IMREAD_COLOR)\n",
    "#             img = jnp.array(img,dtype = jnp.float32)\n",
    "            img = cv2.resize(img,(self.img_size,self.img_size))\n",
    "            data_batch.append(img)\n",
    "            \n",
    "            if train:\n",
    "                label = data[1]['label']\n",
    "                z = np.zeros(self.classes)\n",
    "                z[label] = 1\n",
    "                label_batch.append(z)\n",
    "        \n",
    "        # Random mini Batch        \n",
    "        if train:\n",
    "            idx = np.arange(len(data_batch))\n",
    "            idx = np.random.shuffle(idx)\n",
    "            label_batch = np.array(label_batch)[idx,:]\n",
    "            data_batch = np.array(data_batch)\n",
    "            data_batch = data_batch[idx,:][0]\n",
    "        \n",
    "        data_batch = jnp.array(data_batch,dtype = jnp.float32)\n",
    "        \n",
    "        if self.transform:\n",
    "            if train:\n",
    "                data_batch = jax.jit(jax.vmap(self.transform, in_axes = [None, 0]))\\\n",
    "                                (self.rng, data_batch).block_until_ready()\n",
    "            else:\n",
    "                transform = AUX.Chain(\n",
    "                    AUX.ByteToFloat(),\n",
    "#                     AUX.Normalize(),\n",
    "                )\n",
    "                data_batch = jax.jit(jax.vmap(transform, in_axes = [None, 0]))\\\n",
    "                                (self.rng, data_batch).block_until_ready()\n",
    "                \n",
    "            \n",
    "        return data_batch,jnp.array(label_batch)"
   ]
  },
  {
   "cell_type": "markdown",
   "id": "1aaebf53",
   "metadata": {
    "papermill": {
     "duration": 0.008419,
     "end_time": "2023-04-24T00:57:40.426204",
     "exception": false,
     "start_time": "2023-04-24T00:57:40.417785",
     "status": "completed"
    },
    "tags": []
   },
   "source": [
    "# Modeling"
   ]
  },
  {
   "cell_type": "code",
   "execution_count": 21,
   "id": "b4e22c81",
   "metadata": {
    "execution": {
     "iopub.execute_input": "2023-04-24T00:57:40.444372Z",
     "iopub.status.busy": "2023-04-24T00:57:40.443449Z",
     "iopub.status.idle": "2023-04-24T00:57:40.450676Z",
     "shell.execute_reply": "2023-04-24T00:57:40.449800Z"
    },
    "papermill": {
     "duration": 0.018259,
     "end_time": "2023-04-24T00:57:40.452712",
     "exception": false,
     "start_time": "2023-04-24T00:57:40.434453",
     "status": "completed"
    },
    "tags": []
   },
   "outputs": [],
   "source": [
    "class ClassifierHead(nn.Module):\n",
    "    num_classes: int\n",
    "    backbone: nn.Module\n",
    "  \n",
    "\n",
    "    @nn.compact\n",
    "    def __call__(self, x):\n",
    "        x = self.backbone(x).pooler_output\n",
    "        stk = nn.Dense(512, name='head0', kernel_init= nn.initializers.glorot_uniform())(x)\n",
    "        stk = nn.activation.relu(stk)\n",
    "#         stk = nn.Dense(256, name='head1', kernel_init= nn.initializers.glorot_uniform())(stk)\n",
    "#         stk = nn.Dense(256, name='head2', kernel_init= nn.initializers.glorot_uniform())(stk)\n",
    "#         stk = nn.activation.relu(stk)\n",
    "        stk = nn.Dense(15, name='head3', kernel_init= nn.initializers.glorot_uniform())(stk)\n",
    "        return stk"
   ]
  },
  {
   "cell_type": "code",
   "execution_count": 22,
   "id": "dad83510",
   "metadata": {
    "_kg_hide-output": true,
    "execution": {
     "iopub.execute_input": "2023-04-24T00:57:40.470763Z",
     "iopub.status.busy": "2023-04-24T00:57:40.470014Z",
     "iopub.status.idle": "2023-04-24T00:58:02.248051Z",
     "shell.execute_reply": "2023-04-24T00:58:02.246956Z"
    },
    "papermill": {
     "duration": 21.790031,
     "end_time": "2023-04-24T00:58:02.250885",
     "exception": false,
     "start_time": "2023-04-24T00:57:40.460854",
     "status": "completed"
    },
    "tags": []
   },
   "outputs": [
    {
     "data": {
      "application/vnd.jupyter.widget-view+json": {
       "model_id": "be28760ce8c74af58938caf6efe5ab5f",
       "version_major": 2,
       "version_minor": 0
      },
      "text/plain": [
       "Downloading (…)lve/main/config.json:   0%|          | 0.00/69.9k [00:00<?, ?B/s]"
      ]
     },
     "metadata": {},
     "output_type": "display_data"
    },
    {
     "data": {
      "application/vnd.jupyter.widget-view+json": {
       "model_id": "8698a46505ed462a9eb107af045aa0fe",
       "version_major": 2,
       "version_minor": 0
      },
      "text/plain": [
       "Downloading flax_model.msgpack:   0%|          | 0.00/346M [00:00<?, ?B/s]"
      ]
     },
     "metadata": {},
     "output_type": "display_data"
    }
   ],
   "source": [
    "clipmodel = FlaxBeitModel.from_pretrained(\"microsoft/beit-base-patch16-224\")\n",
    "model = ClassifierHead(num_classes = train_df['label'].nunique(), backbone = clipmodel.module)"
   ]
  },
  {
   "cell_type": "code",
   "execution_count": 23,
   "id": "f47d8ce7",
   "metadata": {
    "execution": {
     "iopub.execute_input": "2023-04-24T00:58:02.270327Z",
     "iopub.status.busy": "2023-04-24T00:58:02.270013Z",
     "iopub.status.idle": "2023-04-24T00:58:12.594314Z",
     "shell.execute_reply": "2023-04-24T00:58:12.593139Z"
    },
    "papermill": {
     "duration": 10.337062,
     "end_time": "2023-04-24T00:58:12.597265",
     "exception": false,
     "start_time": "2023-04-24T00:58:02.260203",
     "status": "completed"
    },
    "tags": []
   },
   "outputs": [],
   "source": [
    "x = jnp.empty((1, 224, 224, 3))\n",
    "variables = model.init(jax.random.PRNGKey(1996), x)\n",
    "params = variables['params'].unfreeze()\n",
    "params['backbone'] = clipmodel.params\n",
    "params = freeze(params)"
   ]
  },
  {
   "cell_type": "code",
   "execution_count": 24,
   "id": "02994e6a",
   "metadata": {
    "execution": {
     "iopub.execute_input": "2023-04-24T00:58:12.616791Z",
     "iopub.status.busy": "2023-04-24T00:58:12.616453Z",
     "iopub.status.idle": "2023-04-24T00:58:12.626821Z",
     "shell.execute_reply": "2023-04-24T00:58:12.625784Z"
    },
    "papermill": {
     "duration": 0.0227,
     "end_time": "2023-04-24T00:58:12.629045",
     "exception": false,
     "start_time": "2023-04-24T00:58:12.606345",
     "status": "completed"
    },
    "tags": []
   },
   "outputs": [],
   "source": [
    "partition_optimizers = {'trainable': optax.adamw(0.5e-3), 'frozen': optax.set_to_zero()}\n",
    "traverse = traverse_util.path_aware_map( lambda path, v: 'frozen' if 'backbone' in path else 'trainable', params )\n",
    "param_partitions = freeze(traverse)\n",
    "tx = optax.multi_transform(partition_optimizers, param_partitions)"
   ]
  },
  {
   "cell_type": "code",
   "execution_count": 25,
   "id": "ba1c4d44",
   "metadata": {
    "execution": {
     "iopub.execute_input": "2023-04-24T00:58:12.647618Z",
     "iopub.status.busy": "2023-04-24T00:58:12.647350Z",
     "iopub.status.idle": "2023-04-24T00:58:12.805146Z",
     "shell.execute_reply": "2023-04-24T00:58:12.804088Z"
    },
    "papermill": {
     "duration": 0.169817,
     "end_time": "2023-04-24T00:58:12.807611",
     "exception": false,
     "start_time": "2023-04-24T00:58:12.637794",
     "status": "completed"
    },
    "tags": []
   },
   "outputs": [],
   "source": [
    "state = train_state.TrainState.create(\n",
    "  apply_fn=model.apply,\n",
    "  params=params,\n",
    "  tx=tx,\n",
    ")"
   ]
  },
  {
   "cell_type": "markdown",
   "id": "9ee2c40a",
   "metadata": {
    "papermill": {
     "duration": 0.008461,
     "end_time": "2023-04-24T00:58:12.824962",
     "exception": false,
     "start_time": "2023-04-24T00:58:12.816501",
     "status": "completed"
    },
    "tags": []
   },
   "source": [
    "# Train one step"
   ]
  },
  {
   "cell_type": "code",
   "execution_count": 26,
   "id": "9ab9d057",
   "metadata": {
    "execution": {
     "iopub.execute_input": "2023-04-24T00:58:12.843674Z",
     "iopub.status.busy": "2023-04-24T00:58:12.843062Z",
     "iopub.status.idle": "2023-04-24T00:58:12.854329Z",
     "shell.execute_reply": "2023-04-24T00:58:12.853396Z"
    },
    "papermill": {
     "duration": 0.023123,
     "end_time": "2023-04-24T00:58:12.856518",
     "exception": false,
     "start_time": "2023-04-24T00:58:12.833395",
     "status": "completed"
    },
    "tags": []
   },
   "outputs": [],
   "source": [
    "@jit\n",
    "def train_step(state, batch):\n",
    "    \"\"\"Train for a single step.\"\"\"\n",
    "    def loss_fn(params):\n",
    "        logits = state.apply_fn(\n",
    "            {'params': params},\n",
    "            x=batch[0])\n",
    "        loss = jnp.mean(optax.softmax_cross_entropy(logits, batch[1]))\n",
    "        return loss, logits\n",
    "    grad_fn = jax.value_and_grad(loss_fn, has_aux=True)\n",
    "    (loss, logits), grads = grad_fn(state.params)\n",
    "    state = state.apply_gradients(grads=grads)\n",
    "\n",
    "    metrics = {\n",
    "    'loss': loss,\n",
    "      'accuracy': jnp.mean(jnp.argmax(logits, -1) == jnp.argmax(batch[1],-1)),\n",
    "    }\n",
    "    return state, metrics\n",
    "\n",
    "\n",
    "@jit\n",
    "def eval_step(state, batch):\n",
    "    \"\"\"Eval for a single step.\"\"\"\n",
    "    logits = state.apply_fn(\n",
    "        {'params': state.params},\n",
    "        x=batch[0])\n",
    "    loss = jnp.mean(optax.softmax_cross_entropy(logits, batch[1]))\n",
    "\n",
    "    metrics = {\n",
    "    'loss': loss,\n",
    "      'accuracy': jnp.mean(jnp.argmax(logits, -1) == jnp.argmax(batch[1],-1)),\n",
    "    }\n",
    "    return state, metrics\n",
    "\n",
    "@jit\n",
    "def predict_step(state, batch):\n",
    "    \"\"\"Eval for a single step.\"\"\"\n",
    "    logits = state.apply_fn(\n",
    "        {'params': state.params},\n",
    "        x=batch[0])\n",
    "    return logits"
   ]
  },
  {
   "cell_type": "markdown",
   "id": "84bec9a5",
   "metadata": {
    "papermill": {
     "duration": 0.008171,
     "end_time": "2023-04-24T00:58:12.873177",
     "exception": false,
     "start_time": "2023-04-24T00:58:12.865006",
     "status": "completed"
    },
    "tags": []
   },
   "source": [
    "# Train whole dataset"
   ]
  },
  {
   "cell_type": "code",
   "execution_count": 27,
   "id": "b95eceb6",
   "metadata": {
    "execution": {
     "iopub.execute_input": "2023-04-24T00:58:12.893059Z",
     "iopub.status.busy": "2023-04-24T00:58:12.892756Z",
     "iopub.status.idle": "2023-04-24T00:58:12.904146Z",
     "shell.execute_reply": "2023-04-24T00:58:12.902992Z"
    },
    "papermill": {
     "duration": 0.02388,
     "end_time": "2023-04-24T00:58:12.906310",
     "exception": false,
     "start_time": "2023-04-24T00:58:12.882430",
     "status": "completed"
    },
    "tags": []
   },
   "outputs": [],
   "source": [
    "def _fit(state,train_df,batch_size):\n",
    "    loss = []\n",
    "    auc = []\n",
    "    loader = Dataload(train_df,train_df['label'].nunique(),transform = transform,batch_size = batch_size)\n",
    "    for idx,i in enumerate(tqdm(loader.batch_idx)):\n",
    "        d = loader.get_batch(i)\n",
    "        state, mtx = train_step(state,d)\n",
    "        loss.append(mtx['loss'])\n",
    "        auc.append(mtx['accuracy'])\n",
    "        if (idx + 1) % 10 == 0:\n",
    "            print(f'Loss: {(sum(loss) / (idx+1)):.4f} | AUC:{(sum(auc) / (idx+1)):.4f}')\n",
    "\n",
    "    return state,loss,auc\n",
    "\n",
    "def _eval(state,test_df,batch_size):\n",
    "    loss = []\n",
    "    auc = []\n",
    "    transform_ev = AUX.Chain(\n",
    "                    AUX.ByteToFloat(),\n",
    "#                     AUX.Normalize(),\n",
    "                )\n",
    "    loader = Dataload(test_df,test_df['label'].nunique(),transform = transform_ev,batch_size = batch_size)\n",
    "    for idx,i in enumerate(tqdm(loader.batch_idx)):\n",
    "        d = loader.get_batch(i)\n",
    "        state, mtx = eval_step(state,d)\n",
    "        loss.append(mtx['loss'])\n",
    "        auc.append(mtx['accuracy'])\n",
    "    \n",
    "    print(f'Loss: {(sum(loss) / len(loader.batch_idx)):.4f} | AUC:{(sum(auc) / len(loader.batch_idx)):.4f}')\n",
    "    \n",
    "    return state,loss,auc\n",
    "\n",
    "def _predict(state,test_df,batch_size):\n",
    "    logits = []\n",
    "    loader = Dataload(test_df,0,transform = transform,batch_size = batch_size)\n",
    "    for idx,i in enumerate(tqdm(loader.batch_idx)):\n",
    "        d = loader.get_batch(i,train = False)\n",
    "        logit = predict_step(state,d)\n",
    "        logits.append(np.array(jnp.argmax(logit,-1)))\n",
    "    \n",
    "    return logits"
   ]
  },
  {
   "cell_type": "code",
   "execution_count": 28,
   "id": "9b80cf6e",
   "metadata": {
    "_kg_hide-output": true,
    "execution": {
     "iopub.execute_input": "2023-04-24T00:58:12.926902Z",
     "iopub.status.busy": "2023-04-24T00:58:12.925345Z",
     "iopub.status.idle": "2023-04-24T01:03:23.926415Z",
     "shell.execute_reply": "2023-04-24T01:03:23.925318Z"
    },
    "papermill": {
     "duration": 311.014407,
     "end_time": "2023-04-24T01:03:23.929393",
     "exception": false,
     "start_time": "2023-04-24T00:58:12.914986",
     "status": "completed"
    },
    "tags": []
   },
   "outputs": [
    {
     "name": "stdout",
     "output_type": "stream",
     "text": [
      "------- Fold 1 --------\n"
     ]
    },
    {
     "name": "stderr",
     "output_type": "stream",
     "text": [
      " 34%|███▍      | 10/29 [00:36<00:48,  2.57s/it]"
     ]
    },
    {
     "name": "stdout",
     "output_type": "stream",
     "text": [
      "Loss: 1.6466 | AUC:0.5297\n"
     ]
    },
    {
     "name": "stderr",
     "output_type": "stream",
     "text": [
      " 69%|██████▉   | 20/29 [00:59<00:21,  2.43s/it]"
     ]
    },
    {
     "name": "stdout",
     "output_type": "stream",
     "text": [
      "Loss: 1.0665 | AUC:0.6969\n"
     ]
    },
    {
     "name": "stderr",
     "output_type": "stream",
     "text": [
      "100%|██████████| 29/29 [01:28<00:00,  3.04s/it]\n"
     ]
    },
    {
     "name": "stdout",
     "output_type": "stream",
     "text": [
      "------ Eval --------\n"
     ]
    },
    {
     "name": "stderr",
     "output_type": "stream",
     "text": [
      "100%|██████████| 15/15 [00:32<00:00,  2.19s/it]\n"
     ]
    },
    {
     "name": "stdout",
     "output_type": "stream",
     "text": [
      "Loss: 0.2862 | AUC:0.9084\n",
      "------- Fold 2 --------\n"
     ]
    },
    {
     "name": "stderr",
     "output_type": "stream",
     "text": [
      " 34%|███▍      | 10/29 [00:19<00:42,  2.25s/it]"
     ]
    },
    {
     "name": "stdout",
     "output_type": "stream",
     "text": [
      "Loss: 0.2238 | AUC:0.9297\n"
     ]
    },
    {
     "name": "stderr",
     "output_type": "stream",
     "text": [
      " 69%|██████▉   | 20/29 [00:39<00:18,  2.04s/it]"
     ]
    },
    {
     "name": "stdout",
     "output_type": "stream",
     "text": [
      "Loss: 0.2051 | AUC:0.9391\n"
     ]
    },
    {
     "name": "stderr",
     "output_type": "stream",
     "text": [
      "100%|██████████| 29/29 [01:06<00:00,  2.28s/it]\n"
     ]
    },
    {
     "name": "stdout",
     "output_type": "stream",
     "text": [
      "------ Eval --------\n"
     ]
    },
    {
     "name": "stderr",
     "output_type": "stream",
     "text": [
      "100%|██████████| 15/15 [00:21<00:00,  1.41s/it]\n"
     ]
    },
    {
     "name": "stdout",
     "output_type": "stream",
     "text": [
      "Loss: 0.1073 | AUC:0.9688\n",
      "------- Fold 3 --------\n"
     ]
    },
    {
     "name": "stderr",
     "output_type": "stream",
     "text": [
      " 34%|███▍      | 10/29 [00:19<00:39,  2.06s/it]"
     ]
    },
    {
     "name": "stdout",
     "output_type": "stream",
     "text": [
      "Loss: 0.0933 | AUC:0.9797\n"
     ]
    },
    {
     "name": "stderr",
     "output_type": "stream",
     "text": [
      " 69%|██████▉   | 20/29 [00:38<00:19,  2.14s/it]"
     ]
    },
    {
     "name": "stdout",
     "output_type": "stream",
     "text": [
      "Loss: 0.0972 | AUC:0.9742\n"
     ]
    },
    {
     "name": "stderr",
     "output_type": "stream",
     "text": [
      "100%|██████████| 29/29 [00:53<00:00,  1.86s/it]\n"
     ]
    },
    {
     "name": "stdout",
     "output_type": "stream",
     "text": [
      "------ Eval --------\n"
     ]
    },
    {
     "name": "stderr",
     "output_type": "stream",
     "text": [
      "100%|██████████| 15/15 [00:16<00:00,  1.12s/it]\n"
     ]
    },
    {
     "name": "stdout",
     "output_type": "stream",
     "text": [
      "Loss: 0.0498 | AUC:0.9917\n"
     ]
    }
   ],
   "source": [
    "fold = KFold(n_splits=3, random_state=1995, shuffle=True)\n",
    "# Watch list\n",
    "train_losses = []\n",
    "test_losses = []\n",
    "\n",
    "train_auc = []\n",
    "test_auc = []\n",
    "########\n",
    "\n",
    "#check point manager\n",
    "options = CheckpointManagerOptions(max_to_keep=5)\n",
    "mngr = CheckpointManager(\n",
    "          'zckpt',PyTreeCheckpointer(),options=options)\n",
    "#####\n",
    "for _ in range(1):\n",
    "    for i, (train_idx, test_idx) in enumerate(fold.split( upsamp_train_df['filename'])):\n",
    "        train_df = upsamp_train_df.loc[train_idx]\n",
    "        test_df = upsamp_train_df.loc[test_idx]\n",
    "        print(f'------- Fold {i+1} --------')\n",
    "        state, loss, auc = _fit(state,train_df,64)\n",
    "        train_losses.append(loss)\n",
    "        train_auc.append(auc)\n",
    "        print('------ Eval --------')\n",
    "        state, loss, auc = _eval(state,test_df,64)\n",
    "        test_losses.append(loss)\n",
    "        test_auc.append(auc)\n",
    "        mngr.save(i,{'model':state})\n",
    "    \n",
    "mngr.wait_until_finished()"
   ]
  },
  {
   "cell_type": "code",
   "execution_count": 29,
   "id": "9f0f8327",
   "metadata": {
    "execution": {
     "iopub.execute_input": "2023-04-24T01:03:23.968774Z",
     "iopub.status.busy": "2023-04-24T01:03:23.968445Z",
     "iopub.status.idle": "2023-04-24T01:04:06.225897Z",
     "shell.execute_reply": "2023-04-24T01:04:06.224604Z"
    },
    "papermill": {
     "duration": 42.279346,
     "end_time": "2023-04-24T01:04:06.228085",
     "exception": false,
     "start_time": "2023-04-24T01:03:23.948739",
     "status": "completed"
    },
    "tags": []
   },
   "outputs": [
    {
     "name": "stderr",
     "output_type": "stream",
     "text": [
      "100%|██████████| 24/24 [00:42<00:00,  1.76s/it]\n"
     ]
    }
   ],
   "source": [
    "#predict\n",
    "logits = _predict(state,test_df_submit,32)\n",
    "res = []\n",
    "for ar in logits:\n",
    "    for i in ar:\n",
    "        res.append(i)"
   ]
  },
  {
   "cell_type": "code",
   "execution_count": 30,
   "id": "02b9e214",
   "metadata": {
    "execution": {
     "iopub.execute_input": "2023-04-24T01:04:06.270957Z",
     "iopub.status.busy": "2023-04-24T01:04:06.269896Z",
     "iopub.status.idle": "2023-04-24T01:04:06.288447Z",
     "shell.execute_reply": "2023-04-24T01:04:06.287423Z"
    },
    "papermill": {
     "duration": 0.041732,
     "end_time": "2023-04-24T01:04:06.290814",
     "exception": false,
     "start_time": "2023-04-24T01:04:06.249082",
     "status": "completed"
    },
    "tags": []
   },
   "outputs": [],
   "source": [
    "sub = pd.read_csv('../input/hackathon-online-phuket-landmark-recognition/submit.csv')\n",
    "sub.predict = res"
   ]
  },
  {
   "cell_type": "code",
   "execution_count": 31,
   "id": "5261936c",
   "metadata": {
    "execution": {
     "iopub.execute_input": "2023-04-24T01:04:06.332815Z",
     "iopub.status.busy": "2023-04-24T01:04:06.331216Z",
     "iopub.status.idle": "2023-04-24T01:04:06.342738Z",
     "shell.execute_reply": "2023-04-24T01:04:06.341772Z"
    },
    "papermill": {
     "duration": 0.033937,
     "end_time": "2023-04-24T01:04:06.344812",
     "exception": false,
     "start_time": "2023-04-24T01:04:06.310875",
     "status": "completed"
    },
    "tags": []
   },
   "outputs": [],
   "source": [
    "sub.to_csv(\"/kaggle/working/submit.csv\", index = False)"
   ]
  },
  {
   "cell_type": "code",
   "execution_count": null,
   "id": "78f198da",
   "metadata": {
    "papermill": {
     "duration": 0.019691,
     "end_time": "2023-04-24T01:04:06.384406",
     "exception": false,
     "start_time": "2023-04-24T01:04:06.364715",
     "status": "completed"
    },
    "tags": []
   },
   "outputs": [],
   "source": []
  }
 ],
 "metadata": {
  "kernelspec": {
   "display_name": "Python 3",
   "language": "python",
   "name": "python3"
  },
  "language_info": {
   "codemirror_mode": {
    "name": "ipython",
    "version": 3
   },
   "file_extension": ".py",
   "mimetype": "text/x-python",
   "name": "python",
   "nbconvert_exporter": "python",
   "pygments_lexer": "ipython3",
   "version": "3.7.12"
  },
  "papermill": {
   "default_parameters": {},
   "duration": 435.129757,
   "end_time": "2023-04-24T01:04:09.733037",
   "environment_variables": {},
   "exception": null,
   "input_path": "__notebook__.ipynb",
   "output_path": "__notebook__.ipynb",
   "parameters": {},
   "start_time": "2023-04-24T00:56:54.603280",
   "version": "2.4.0"
  },
  "widgets": {
   "application/vnd.jupyter.widget-state+json": {
    "state": {
     "0164fc1b4e8c4415ad9f2d587d14b59b": {
      "model_module": "@jupyter-widgets/base",
      "model_module_version": "1.2.0",
      "model_name": "LayoutModel",
      "state": {
       "_model_module": "@jupyter-widgets/base",
       "_model_module_version": "1.2.0",
       "_model_name": "LayoutModel",
       "_view_count": null,
       "_view_module": "@jupyter-widgets/base",
       "_view_module_version": "1.2.0",
       "_view_name": "LayoutView",
       "align_content": null,
       "align_items": null,
       "align_self": null,
       "border": null,
       "bottom": null,
       "display": null,
       "flex": null,
       "flex_flow": null,
       "grid_area": null,
       "grid_auto_columns": null,
       "grid_auto_flow": null,
       "grid_auto_rows": null,
       "grid_column": null,
       "grid_gap": null,
       "grid_row": null,
       "grid_template_areas": null,
       "grid_template_columns": null,
       "grid_template_rows": null,
       "height": null,
       "justify_content": null,
       "justify_items": null,
       "left": null,
       "margin": null,
       "max_height": null,
       "max_width": null,
       "min_height": null,
       "min_width": null,
       "object_fit": null,
       "object_position": null,
       "order": null,
       "overflow": null,
       "overflow_x": null,
       "overflow_y": null,
       "padding": null,
       "right": null,
       "top": null,
       "visibility": null,
       "width": null
      }
     },
     "0ae984e4c13f457681ae63802eefb466": {
      "model_module": "@jupyter-widgets/base",
      "model_module_version": "1.2.0",
      "model_name": "LayoutModel",
      "state": {
       "_model_module": "@jupyter-widgets/base",
       "_model_module_version": "1.2.0",
       "_model_name": "LayoutModel",
       "_view_count": null,
       "_view_module": "@jupyter-widgets/base",
       "_view_module_version": "1.2.0",
       "_view_name": "LayoutView",
       "align_content": null,
       "align_items": null,
       "align_self": null,
       "border": null,
       "bottom": null,
       "display": null,
       "flex": null,
       "flex_flow": null,
       "grid_area": null,
       "grid_auto_columns": null,
       "grid_auto_flow": null,
       "grid_auto_rows": null,
       "grid_column": null,
       "grid_gap": null,
       "grid_row": null,
       "grid_template_areas": null,
       "grid_template_columns": null,
       "grid_template_rows": null,
       "height": null,
       "justify_content": null,
       "justify_items": null,
       "left": null,
       "margin": null,
       "max_height": null,
       "max_width": null,
       "min_height": null,
       "min_width": null,
       "object_fit": null,
       "object_position": null,
       "order": null,
       "overflow": null,
       "overflow_x": null,
       "overflow_y": null,
       "padding": null,
       "right": null,
       "top": null,
       "visibility": null,
       "width": null
      }
     },
     "0baf3931c87f4a349092ec4156a6f255": {
      "model_module": "@jupyter-widgets/controls",
      "model_module_version": "1.5.0",
      "model_name": "ProgressStyleModel",
      "state": {
       "_model_module": "@jupyter-widgets/controls",
       "_model_module_version": "1.5.0",
       "_model_name": "ProgressStyleModel",
       "_view_count": null,
       "_view_module": "@jupyter-widgets/base",
       "_view_module_version": "1.2.0",
       "_view_name": "StyleView",
       "bar_color": null,
       "description_width": ""
      }
     },
     "16580c2ef1d5485a8734e6ccafd15b3a": {
      "model_module": "@jupyter-widgets/base",
      "model_module_version": "1.2.0",
      "model_name": "LayoutModel",
      "state": {
       "_model_module": "@jupyter-widgets/base",
       "_model_module_version": "1.2.0",
       "_model_name": "LayoutModel",
       "_view_count": null,
       "_view_module": "@jupyter-widgets/base",
       "_view_module_version": "1.2.0",
       "_view_name": "LayoutView",
       "align_content": null,
       "align_items": null,
       "align_self": null,
       "border": null,
       "bottom": null,
       "display": null,
       "flex": null,
       "flex_flow": null,
       "grid_area": null,
       "grid_auto_columns": null,
       "grid_auto_flow": null,
       "grid_auto_rows": null,
       "grid_column": null,
       "grid_gap": null,
       "grid_row": null,
       "grid_template_areas": null,
       "grid_template_columns": null,
       "grid_template_rows": null,
       "height": null,
       "justify_content": null,
       "justify_items": null,
       "left": null,
       "margin": null,
       "max_height": null,
       "max_width": null,
       "min_height": null,
       "min_width": null,
       "object_fit": null,
       "object_position": null,
       "order": null,
       "overflow": null,
       "overflow_x": null,
       "overflow_y": null,
       "padding": null,
       "right": null,
       "top": null,
       "visibility": null,
       "width": null
      }
     },
     "18713eedd5f84c058714bc77c45d5028": {
      "model_module": "@jupyter-widgets/controls",
      "model_module_version": "1.5.0",
      "model_name": "HTMLModel",
      "state": {
       "_dom_classes": [],
       "_model_module": "@jupyter-widgets/controls",
       "_model_module_version": "1.5.0",
       "_model_name": "HTMLModel",
       "_view_count": null,
       "_view_module": "@jupyter-widgets/controls",
       "_view_module_version": "1.5.0",
       "_view_name": "HTMLView",
       "description": "",
       "description_tooltip": null,
       "layout": "IPY_MODEL_1c958ddc857f4eea98884d4deee5858d",
       "placeholder": "​",
       "style": "IPY_MODEL_f64be4cf48844eedb5c382a5d3fbfb19",
       "value": "Downloading flax_model.msgpack: 100%"
      }
     },
     "1c958ddc857f4eea98884d4deee5858d": {
      "model_module": "@jupyter-widgets/base",
      "model_module_version": "1.2.0",
      "model_name": "LayoutModel",
      "state": {
       "_model_module": "@jupyter-widgets/base",
       "_model_module_version": "1.2.0",
       "_model_name": "LayoutModel",
       "_view_count": null,
       "_view_module": "@jupyter-widgets/base",
       "_view_module_version": "1.2.0",
       "_view_name": "LayoutView",
       "align_content": null,
       "align_items": null,
       "align_self": null,
       "border": null,
       "bottom": null,
       "display": null,
       "flex": null,
       "flex_flow": null,
       "grid_area": null,
       "grid_auto_columns": null,
       "grid_auto_flow": null,
       "grid_auto_rows": null,
       "grid_column": null,
       "grid_gap": null,
       "grid_row": null,
       "grid_template_areas": null,
       "grid_template_columns": null,
       "grid_template_rows": null,
       "height": null,
       "justify_content": null,
       "justify_items": null,
       "left": null,
       "margin": null,
       "max_height": null,
       "max_width": null,
       "min_height": null,
       "min_width": null,
       "object_fit": null,
       "object_position": null,
       "order": null,
       "overflow": null,
       "overflow_x": null,
       "overflow_y": null,
       "padding": null,
       "right": null,
       "top": null,
       "visibility": null,
       "width": null
      }
     },
     "33d271acfa964bb3a04bbe0851eb3bed": {
      "model_module": "@jupyter-widgets/controls",
      "model_module_version": "1.5.0",
      "model_name": "ProgressStyleModel",
      "state": {
       "_model_module": "@jupyter-widgets/controls",
       "_model_module_version": "1.5.0",
       "_model_name": "ProgressStyleModel",
       "_view_count": null,
       "_view_module": "@jupyter-widgets/base",
       "_view_module_version": "1.2.0",
       "_view_name": "StyleView",
       "bar_color": null,
       "description_width": ""
      }
     },
     "4193956c271b40b792268007bef99661": {
      "model_module": "@jupyter-widgets/controls",
      "model_module_version": "1.5.0",
      "model_name": "HTMLModel",
      "state": {
       "_dom_classes": [],
       "_model_module": "@jupyter-widgets/controls",
       "_model_module_version": "1.5.0",
       "_model_name": "HTMLModel",
       "_view_count": null,
       "_view_module": "@jupyter-widgets/controls",
       "_view_module_version": "1.5.0",
       "_view_name": "HTMLView",
       "description": "",
       "description_tooltip": null,
       "layout": "IPY_MODEL_bc47e78db26746c19c11b3f5030cc733",
       "placeholder": "​",
       "style": "IPY_MODEL_ca22795430894a76ab0502f232196040",
       "value": "Downloading (…)lve/main/config.json: 100%"
      }
     },
     "47fcbd36f30d43c28e2f7a1da9777742": {
      "model_module": "@jupyter-widgets/base",
      "model_module_version": "1.2.0",
      "model_name": "LayoutModel",
      "state": {
       "_model_module": "@jupyter-widgets/base",
       "_model_module_version": "1.2.0",
       "_model_name": "LayoutModel",
       "_view_count": null,
       "_view_module": "@jupyter-widgets/base",
       "_view_module_version": "1.2.0",
       "_view_name": "LayoutView",
       "align_content": null,
       "align_items": null,
       "align_self": null,
       "border": null,
       "bottom": null,
       "display": null,
       "flex": null,
       "flex_flow": null,
       "grid_area": null,
       "grid_auto_columns": null,
       "grid_auto_flow": null,
       "grid_auto_rows": null,
       "grid_column": null,
       "grid_gap": null,
       "grid_row": null,
       "grid_template_areas": null,
       "grid_template_columns": null,
       "grid_template_rows": null,
       "height": null,
       "justify_content": null,
       "justify_items": null,
       "left": null,
       "margin": null,
       "max_height": null,
       "max_width": null,
       "min_height": null,
       "min_width": null,
       "object_fit": null,
       "object_position": null,
       "order": null,
       "overflow": null,
       "overflow_x": null,
       "overflow_y": null,
       "padding": null,
       "right": null,
       "top": null,
       "visibility": null,
       "width": null
      }
     },
     "6198ebd2cb6f4d6ca5bb269040552ed8": {
      "model_module": "@jupyter-widgets/controls",
      "model_module_version": "1.5.0",
      "model_name": "HTMLModel",
      "state": {
       "_dom_classes": [],
       "_model_module": "@jupyter-widgets/controls",
       "_model_module_version": "1.5.0",
       "_model_name": "HTMLModel",
       "_view_count": null,
       "_view_module": "@jupyter-widgets/controls",
       "_view_module_version": "1.5.0",
       "_view_name": "HTMLView",
       "description": "",
       "description_tooltip": null,
       "layout": "IPY_MODEL_0164fc1b4e8c4415ad9f2d587d14b59b",
       "placeholder": "​",
       "style": "IPY_MODEL_a32e79c77d86462fac4c249315e15242",
       "value": " 346M/346M [00:01&lt;00:00, 200MB/s]"
      }
     },
     "6ed5e05e7bbd473b8e4fd63bf1d23040": {
      "model_module": "@jupyter-widgets/base",
      "model_module_version": "1.2.0",
      "model_name": "LayoutModel",
      "state": {
       "_model_module": "@jupyter-widgets/base",
       "_model_module_version": "1.2.0",
       "_model_name": "LayoutModel",
       "_view_count": null,
       "_view_module": "@jupyter-widgets/base",
       "_view_module_version": "1.2.0",
       "_view_name": "LayoutView",
       "align_content": null,
       "align_items": null,
       "align_self": null,
       "border": null,
       "bottom": null,
       "display": null,
       "flex": null,
       "flex_flow": null,
       "grid_area": null,
       "grid_auto_columns": null,
       "grid_auto_flow": null,
       "grid_auto_rows": null,
       "grid_column": null,
       "grid_gap": null,
       "grid_row": null,
       "grid_template_areas": null,
       "grid_template_columns": null,
       "grid_template_rows": null,
       "height": null,
       "justify_content": null,
       "justify_items": null,
       "left": null,
       "margin": null,
       "max_height": null,
       "max_width": null,
       "min_height": null,
       "min_width": null,
       "object_fit": null,
       "object_position": null,
       "order": null,
       "overflow": null,
       "overflow_x": null,
       "overflow_y": null,
       "padding": null,
       "right": null,
       "top": null,
       "visibility": null,
       "width": null
      }
     },
     "71a92bef364a45a9a2b60067cf07b1d6": {
      "model_module": "@jupyter-widgets/controls",
      "model_module_version": "1.5.0",
      "model_name": "DescriptionStyleModel",
      "state": {
       "_model_module": "@jupyter-widgets/controls",
       "_model_module_version": "1.5.0",
       "_model_name": "DescriptionStyleModel",
       "_view_count": null,
       "_view_module": "@jupyter-widgets/base",
       "_view_module_version": "1.2.0",
       "_view_name": "StyleView",
       "description_width": ""
      }
     },
     "8698a46505ed462a9eb107af045aa0fe": {
      "model_module": "@jupyter-widgets/controls",
      "model_module_version": "1.5.0",
      "model_name": "HBoxModel",
      "state": {
       "_dom_classes": [],
       "_model_module": "@jupyter-widgets/controls",
       "_model_module_version": "1.5.0",
       "_model_name": "HBoxModel",
       "_view_count": null,
       "_view_module": "@jupyter-widgets/controls",
       "_view_module_version": "1.5.0",
       "_view_name": "HBoxView",
       "box_style": "",
       "children": [
        "IPY_MODEL_18713eedd5f84c058714bc77c45d5028",
        "IPY_MODEL_a895cda7f632457a8244c260b5583087",
        "IPY_MODEL_6198ebd2cb6f4d6ca5bb269040552ed8"
       ],
       "layout": "IPY_MODEL_47fcbd36f30d43c28e2f7a1da9777742"
      }
     },
     "a32e79c77d86462fac4c249315e15242": {
      "model_module": "@jupyter-widgets/controls",
      "model_module_version": "1.5.0",
      "model_name": "DescriptionStyleModel",
      "state": {
       "_model_module": "@jupyter-widgets/controls",
       "_model_module_version": "1.5.0",
       "_model_name": "DescriptionStyleModel",
       "_view_count": null,
       "_view_module": "@jupyter-widgets/base",
       "_view_module_version": "1.2.0",
       "_view_name": "StyleView",
       "description_width": ""
      }
     },
     "a895cda7f632457a8244c260b5583087": {
      "model_module": "@jupyter-widgets/controls",
      "model_module_version": "1.5.0",
      "model_name": "FloatProgressModel",
      "state": {
       "_dom_classes": [],
       "_model_module": "@jupyter-widgets/controls",
       "_model_module_version": "1.5.0",
       "_model_name": "FloatProgressModel",
       "_view_count": null,
       "_view_module": "@jupyter-widgets/controls",
       "_view_module_version": "1.5.0",
       "_view_name": "ProgressView",
       "bar_style": "success",
       "description": "",
       "description_tooltip": null,
       "layout": "IPY_MODEL_6ed5e05e7bbd473b8e4fd63bf1d23040",
       "max": 346132551.0,
       "min": 0.0,
       "orientation": "horizontal",
       "style": "IPY_MODEL_0baf3931c87f4a349092ec4156a6f255",
       "value": 346132551.0
      }
     },
     "bc47e78db26746c19c11b3f5030cc733": {
      "model_module": "@jupyter-widgets/base",
      "model_module_version": "1.2.0",
      "model_name": "LayoutModel",
      "state": {
       "_model_module": "@jupyter-widgets/base",
       "_model_module_version": "1.2.0",
       "_model_name": "LayoutModel",
       "_view_count": null,
       "_view_module": "@jupyter-widgets/base",
       "_view_module_version": "1.2.0",
       "_view_name": "LayoutView",
       "align_content": null,
       "align_items": null,
       "align_self": null,
       "border": null,
       "bottom": null,
       "display": null,
       "flex": null,
       "flex_flow": null,
       "grid_area": null,
       "grid_auto_columns": null,
       "grid_auto_flow": null,
       "grid_auto_rows": null,
       "grid_column": null,
       "grid_gap": null,
       "grid_row": null,
       "grid_template_areas": null,
       "grid_template_columns": null,
       "grid_template_rows": null,
       "height": null,
       "justify_content": null,
       "justify_items": null,
       "left": null,
       "margin": null,
       "max_height": null,
       "max_width": null,
       "min_height": null,
       "min_width": null,
       "object_fit": null,
       "object_position": null,
       "order": null,
       "overflow": null,
       "overflow_x": null,
       "overflow_y": null,
       "padding": null,
       "right": null,
       "top": null,
       "visibility": null,
       "width": null
      }
     },
     "be28760ce8c74af58938caf6efe5ab5f": {
      "model_module": "@jupyter-widgets/controls",
      "model_module_version": "1.5.0",
      "model_name": "HBoxModel",
      "state": {
       "_dom_classes": [],
       "_model_module": "@jupyter-widgets/controls",
       "_model_module_version": "1.5.0",
       "_model_name": "HBoxModel",
       "_view_count": null,
       "_view_module": "@jupyter-widgets/controls",
       "_view_module_version": "1.5.0",
       "_view_name": "HBoxView",
       "box_style": "",
       "children": [
        "IPY_MODEL_4193956c271b40b792268007bef99661",
        "IPY_MODEL_efaba243552b47aea6a4351504a52de1",
        "IPY_MODEL_f304dd0833174bb5823d79669063c0eb"
       ],
       "layout": "IPY_MODEL_0ae984e4c13f457681ae63802eefb466"
      }
     },
     "ca22795430894a76ab0502f232196040": {
      "model_module": "@jupyter-widgets/controls",
      "model_module_version": "1.5.0",
      "model_name": "DescriptionStyleModel",
      "state": {
       "_model_module": "@jupyter-widgets/controls",
       "_model_module_version": "1.5.0",
       "_model_name": "DescriptionStyleModel",
       "_view_count": null,
       "_view_module": "@jupyter-widgets/base",
       "_view_module_version": "1.2.0",
       "_view_name": "StyleView",
       "description_width": ""
      }
     },
     "eeec2792cd5f4d97b25e158d68b92f1e": {
      "model_module": "@jupyter-widgets/base",
      "model_module_version": "1.2.0",
      "model_name": "LayoutModel",
      "state": {
       "_model_module": "@jupyter-widgets/base",
       "_model_module_version": "1.2.0",
       "_model_name": "LayoutModel",
       "_view_count": null,
       "_view_module": "@jupyter-widgets/base",
       "_view_module_version": "1.2.0",
       "_view_name": "LayoutView",
       "align_content": null,
       "align_items": null,
       "align_self": null,
       "border": null,
       "bottom": null,
       "display": null,
       "flex": null,
       "flex_flow": null,
       "grid_area": null,
       "grid_auto_columns": null,
       "grid_auto_flow": null,
       "grid_auto_rows": null,
       "grid_column": null,
       "grid_gap": null,
       "grid_row": null,
       "grid_template_areas": null,
       "grid_template_columns": null,
       "grid_template_rows": null,
       "height": null,
       "justify_content": null,
       "justify_items": null,
       "left": null,
       "margin": null,
       "max_height": null,
       "max_width": null,
       "min_height": null,
       "min_width": null,
       "object_fit": null,
       "object_position": null,
       "order": null,
       "overflow": null,
       "overflow_x": null,
       "overflow_y": null,
       "padding": null,
       "right": null,
       "top": null,
       "visibility": null,
       "width": null
      }
     },
     "efaba243552b47aea6a4351504a52de1": {
      "model_module": "@jupyter-widgets/controls",
      "model_module_version": "1.5.0",
      "model_name": "FloatProgressModel",
      "state": {
       "_dom_classes": [],
       "_model_module": "@jupyter-widgets/controls",
       "_model_module_version": "1.5.0",
       "_model_name": "FloatProgressModel",
       "_view_count": null,
       "_view_module": "@jupyter-widgets/controls",
       "_view_module_version": "1.5.0",
       "_view_name": "ProgressView",
       "bar_style": "success",
       "description": "",
       "description_tooltip": null,
       "layout": "IPY_MODEL_16580c2ef1d5485a8734e6ccafd15b3a",
       "max": 69889.0,
       "min": 0.0,
       "orientation": "horizontal",
       "style": "IPY_MODEL_33d271acfa964bb3a04bbe0851eb3bed",
       "value": 69889.0
      }
     },
     "f304dd0833174bb5823d79669063c0eb": {
      "model_module": "@jupyter-widgets/controls",
      "model_module_version": "1.5.0",
      "model_name": "HTMLModel",
      "state": {
       "_dom_classes": [],
       "_model_module": "@jupyter-widgets/controls",
       "_model_module_version": "1.5.0",
       "_model_name": "HTMLModel",
       "_view_count": null,
       "_view_module": "@jupyter-widgets/controls",
       "_view_module_version": "1.5.0",
       "_view_name": "HTMLView",
       "description": "",
       "description_tooltip": null,
       "layout": "IPY_MODEL_eeec2792cd5f4d97b25e158d68b92f1e",
       "placeholder": "​",
       "style": "IPY_MODEL_71a92bef364a45a9a2b60067cf07b1d6",
       "value": " 69.9k/69.9k [00:00&lt;00:00, 2.76MB/s]"
      }
     },
     "f64be4cf48844eedb5c382a5d3fbfb19": {
      "model_module": "@jupyter-widgets/controls",
      "model_module_version": "1.5.0",
      "model_name": "DescriptionStyleModel",
      "state": {
       "_model_module": "@jupyter-widgets/controls",
       "_model_module_version": "1.5.0",
       "_model_name": "DescriptionStyleModel",
       "_view_count": null,
       "_view_module": "@jupyter-widgets/base",
       "_view_module_version": "1.2.0",
       "_view_name": "StyleView",
       "description_width": ""
      }
     }
    },
    "version_major": 2,
    "version_minor": 0
   }
  }
 },
 "nbformat": 4,
 "nbformat_minor": 5
}
